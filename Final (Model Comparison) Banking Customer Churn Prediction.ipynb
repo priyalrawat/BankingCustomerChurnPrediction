{
  "cells": [
    {
      "cell_type": "markdown",
      "source": [
        "**Step 1: Load Dataset from Azure ML**\n",
        "Now that my dataset \"Banking_Customer\" is properly uploaded and registered in Azure ML, I will:\n",
        "1. Connect to the Azure ML Workspace.\n",
        "2. Retrieve the dataset using Dataset.get_by_name().\n",
        "3. Convert it into a Pandas DataFrame.\n",
        "4. Display the first few rows to verify that the dataset is loaded correctly.\n"
      ],
      "metadata": {
        "nteract": {
          "transient": {
            "deleting": false
          }
        }
      }
    },
    {
      "cell_type": "code",
      "source": [
        "from azureml.core import Workspace, Dataset\n",
        "import pandas as pd\n",
        "\n",
        "# Connect to Azure ML Workspace\n",
        "ws = Workspace.from_config()\n",
        "\n",
        "# Load dataset (Ensure the dataset name matches exactly)\n",
        "dataset = Dataset.get_by_name(ws, name=\"Banking_Customer\")\n",
        "\n",
        "# Convert dataset directly to Pandas DataFrame\n",
        "df = dataset.to_pandas_dataframe()\n",
        "\n",
        "# Display first few rows to verify loading\n",
        "df.head()\n"
      ],
      "outputs": [
        {
          "output_type": "stream",
          "name": "stdout",
          "text": "{'infer_column_types': 'False', 'activity': 'to_pandas_dataframe'}\n{'infer_column_types': 'False', 'activity': 'to_pandas_dataframe', 'activityApp': 'TabularDataset'}\n"
        },
        {
          "output_type": "execute_result",
          "execution_count": 7,
          "data": {
            "text/plain": "   customer_id  credit_score country  gender  age  tenure    balance  \\\n0     15634602           619  France  Female   42       2       0.00   \n1     15647311           608   Spain  Female   41       1   83807.86   \n2     15619304           502  France  Female   42       8  159660.80   \n3     15701354           699  France  Female   39       1       0.00   \n4     15737888           850   Spain  Female   43       2  125510.82   \n\n   products_number  credit_card  active_member  estimated_salary  churn  \n0                1            1              1         101348.88      1  \n1                1            0              1         112542.58      0  \n2                3            1              0         113931.57      1  \n3                2            0              0          93826.63      0  \n4                1            1              1          79084.10      0  ",
            "text/html": "<div>\n<style scoped>\n    .dataframe tbody tr th:only-of-type {\n        vertical-align: middle;\n    }\n\n    .dataframe tbody tr th {\n        vertical-align: top;\n    }\n\n    .dataframe thead th {\n        text-align: right;\n    }\n</style>\n<table border=\"1\" class=\"dataframe\">\n  <thead>\n    <tr style=\"text-align: right;\">\n      <th></th>\n      <th>customer_id</th>\n      <th>credit_score</th>\n      <th>country</th>\n      <th>gender</th>\n      <th>age</th>\n      <th>tenure</th>\n      <th>balance</th>\n      <th>products_number</th>\n      <th>credit_card</th>\n      <th>active_member</th>\n      <th>estimated_salary</th>\n      <th>churn</th>\n    </tr>\n  </thead>\n  <tbody>\n    <tr>\n      <th>0</th>\n      <td>15634602</td>\n      <td>619</td>\n      <td>France</td>\n      <td>Female</td>\n      <td>42</td>\n      <td>2</td>\n      <td>0.00</td>\n      <td>1</td>\n      <td>1</td>\n      <td>1</td>\n      <td>101348.88</td>\n      <td>1</td>\n    </tr>\n    <tr>\n      <th>1</th>\n      <td>15647311</td>\n      <td>608</td>\n      <td>Spain</td>\n      <td>Female</td>\n      <td>41</td>\n      <td>1</td>\n      <td>83807.86</td>\n      <td>1</td>\n      <td>0</td>\n      <td>1</td>\n      <td>112542.58</td>\n      <td>0</td>\n    </tr>\n    <tr>\n      <th>2</th>\n      <td>15619304</td>\n      <td>502</td>\n      <td>France</td>\n      <td>Female</td>\n      <td>42</td>\n      <td>8</td>\n      <td>159660.80</td>\n      <td>3</td>\n      <td>1</td>\n      <td>0</td>\n      <td>113931.57</td>\n      <td>1</td>\n    </tr>\n    <tr>\n      <th>3</th>\n      <td>15701354</td>\n      <td>699</td>\n      <td>France</td>\n      <td>Female</td>\n      <td>39</td>\n      <td>1</td>\n      <td>0.00</td>\n      <td>2</td>\n      <td>0</td>\n      <td>0</td>\n      <td>93826.63</td>\n      <td>0</td>\n    </tr>\n    <tr>\n      <th>4</th>\n      <td>15737888</td>\n      <td>850</td>\n      <td>Spain</td>\n      <td>Female</td>\n      <td>43</td>\n      <td>2</td>\n      <td>125510.82</td>\n      <td>1</td>\n      <td>1</td>\n      <td>1</td>\n      <td>79084.10</td>\n      <td>0</td>\n    </tr>\n  </tbody>\n</table>\n</div>"
          },
          "metadata": {}
        }
      ],
      "execution_count": 7,
      "metadata": {
        "gather": {
          "logged": 1740605784449
        }
      }
    },
    {
      "cell_type": "markdown",
      "source": [
        "**Step 2: Data Preprocessing - Handle Missing Values**\n",
        "Missing values in a dataset can lead to incorrect model predictions. \n",
        "We will check for missing values and handle them by:\n",
        "- Filling missing numerical values with the column mean.\n",
        "- Dropping rows with missing categorical values.\n"
      ],
      "metadata": {
        "nteract": {
          "transient": {
            "deleting": false
          }
        }
      }
    },
    {
      "cell_type": "code",
      "source": [
        "# Check for missing values\n",
        "print(\"Missing values per column:\\n\", df.isnull().sum())\n",
        "\n",
        "# Fill missing numerical values with column mean (avoid warning)\n",
        "df.fillna(df.mean(numeric_only=True), inplace=True)\n",
        "\n",
        "# Drop rows with missing categorical values (if any)\n",
        "df.dropna(inplace=True)\n",
        "\n",
        "# Verify if missing values are handled\n",
        "print(\"Missing values after handling:\\n\", df.isnull().sum())\n"
      ],
      "outputs": [
        {
          "output_type": "stream",
          "name": "stdout",
          "text": "Missing values per column:\n customer_id         0\ncredit_score        0\ncountry             0\ngender              0\nage                 0\ntenure              0\nbalance             0\nproducts_number     0\ncredit_card         0\nactive_member       0\nestimated_salary    0\nchurn               0\ndtype: int64\nMissing values after handling:\n customer_id         0\ncredit_score        0\ncountry             0\ngender              0\nage                 0\ntenure              0\nbalance             0\nproducts_number     0\ncredit_card         0\nactive_member       0\nestimated_salary    0\nchurn               0\ndtype: int64\n"
        }
      ],
      "execution_count": 9,
      "metadata": {
        "gather": {
          "logged": 1740606098027
        }
      }
    },
    {
      "cell_type": "markdown",
      "source": [
        "**Step 3: Convert Categorical Data to Numeric**\n",
        "Machine learning models require numerical data. We will:\n",
        "- Encode categorical variables (e.g., Gender, Geography) into numerical form.\n"
      ],
      "metadata": {
        "nteract": {
          "transient": {
            "deleting": false
          }
        }
      }
    },
    {
      "cell_type": "code",
      "source": [
        "print(\"Column Names in Dataset:\\n\", df.columns)\n"
      ],
      "outputs": [
        {
          "output_type": "stream",
          "name": "stdout",
          "text": "Column Names in Dataset:\n Index(['customer_id', 'credit_score', 'country', 'gender', 'age', 'tenure',\n       'balance', 'products_number', 'credit_card', 'active_member',\n       'estimated_salary', 'churn'],\n      dtype='object')\n"
        }
      ],
      "execution_count": 11,
      "metadata": {
        "gather": {
          "logged": 1740606304321
        }
      }
    },
    {
      "cell_type": "code",
      "source": [
        "# Convert categorical variables into numeric\n",
        "\n",
        "# Encoding 'gender' (lowercase in dataset)\n",
        "df['gender'] = df['gender'].map({'Male': 0, 'Female': 1})\n",
        "\n",
        "# Encoding 'country' (instead of 'Geography')\n",
        "df['country'] = df['country'].astype('category').cat.codes  \n",
        "\n",
        "# Verify changes\n",
        "df.head()\n"
      ],
      "outputs": [
        {
          "output_type": "execute_result",
          "execution_count": 12,
          "data": {
            "text/plain": "   customer_id  credit_score  country  gender  age  tenure    balance  \\\n0     15634602           619        0       1   42       2       0.00   \n1     15647311           608        2       1   41       1   83807.86   \n2     15619304           502        0       1   42       8  159660.80   \n3     15701354           699        0       1   39       1       0.00   \n4     15737888           850        2       1   43       2  125510.82   \n\n   products_number  credit_card  active_member  estimated_salary  churn  \n0                1            1              1         101348.88      1  \n1                1            0              1         112542.58      0  \n2                3            1              0         113931.57      1  \n3                2            0              0          93826.63      0  \n4                1            1              1          79084.10      0  ",
            "text/html": "<div>\n<style scoped>\n    .dataframe tbody tr th:only-of-type {\n        vertical-align: middle;\n    }\n\n    .dataframe tbody tr th {\n        vertical-align: top;\n    }\n\n    .dataframe thead th {\n        text-align: right;\n    }\n</style>\n<table border=\"1\" class=\"dataframe\">\n  <thead>\n    <tr style=\"text-align: right;\">\n      <th></th>\n      <th>customer_id</th>\n      <th>credit_score</th>\n      <th>country</th>\n      <th>gender</th>\n      <th>age</th>\n      <th>tenure</th>\n      <th>balance</th>\n      <th>products_number</th>\n      <th>credit_card</th>\n      <th>active_member</th>\n      <th>estimated_salary</th>\n      <th>churn</th>\n    </tr>\n  </thead>\n  <tbody>\n    <tr>\n      <th>0</th>\n      <td>15634602</td>\n      <td>619</td>\n      <td>0</td>\n      <td>1</td>\n      <td>42</td>\n      <td>2</td>\n      <td>0.00</td>\n      <td>1</td>\n      <td>1</td>\n      <td>1</td>\n      <td>101348.88</td>\n      <td>1</td>\n    </tr>\n    <tr>\n      <th>1</th>\n      <td>15647311</td>\n      <td>608</td>\n      <td>2</td>\n      <td>1</td>\n      <td>41</td>\n      <td>1</td>\n      <td>83807.86</td>\n      <td>1</td>\n      <td>0</td>\n      <td>1</td>\n      <td>112542.58</td>\n      <td>0</td>\n    </tr>\n    <tr>\n      <th>2</th>\n      <td>15619304</td>\n      <td>502</td>\n      <td>0</td>\n      <td>1</td>\n      <td>42</td>\n      <td>8</td>\n      <td>159660.80</td>\n      <td>3</td>\n      <td>1</td>\n      <td>0</td>\n      <td>113931.57</td>\n      <td>1</td>\n    </tr>\n    <tr>\n      <th>3</th>\n      <td>15701354</td>\n      <td>699</td>\n      <td>0</td>\n      <td>1</td>\n      <td>39</td>\n      <td>1</td>\n      <td>0.00</td>\n      <td>2</td>\n      <td>0</td>\n      <td>0</td>\n      <td>93826.63</td>\n      <td>0</td>\n    </tr>\n    <tr>\n      <th>4</th>\n      <td>15737888</td>\n      <td>850</td>\n      <td>2</td>\n      <td>1</td>\n      <td>43</td>\n      <td>2</td>\n      <td>125510.82</td>\n      <td>1</td>\n      <td>1</td>\n      <td>1</td>\n      <td>79084.10</td>\n      <td>0</td>\n    </tr>\n  </tbody>\n</table>\n</div>"
          },
          "metadata": {}
        }
      ],
      "execution_count": 12,
      "metadata": {
        "gather": {
          "logged": 1740606450503
        }
      }
    },
    {
      "cell_type": "markdown",
      "source": [
        "**Step 4: Feature Selection**\n",
        "Not all columns are useful for churn prediction. We will:\n",
        "- Select only relevant features for training.\n",
        "- Drop unnecessary columns like Customer ID, Name, etc.\n"
      ],
      "metadata": {
        "nteract": {
          "transient": {
            "deleting": false
          }
        }
      }
    },
    {
      "cell_type": "code",
      "source": [
        "# Select relevant features and target variable (using correct column names)\n",
        "X = df[['credit_score', 'age', 'balance', 'products_number', 'active_member']]\n",
        "y = df['churn']  # Correct target column name\n",
        "\n",
        "# Display selected features\n",
        "X.head()\n"
      ],
      "outputs": [
        {
          "output_type": "execute_result",
          "execution_count": 15,
          "data": {
            "text/plain": "   credit_score  age    balance  products_number  active_member\n0           619   42       0.00                1              1\n1           608   41   83807.86                1              1\n2           502   42  159660.80                3              0\n3           699   39       0.00                2              0\n4           850   43  125510.82                1              1",
            "text/html": "<div>\n<style scoped>\n    .dataframe tbody tr th:only-of-type {\n        vertical-align: middle;\n    }\n\n    .dataframe tbody tr th {\n        vertical-align: top;\n    }\n\n    .dataframe thead th {\n        text-align: right;\n    }\n</style>\n<table border=\"1\" class=\"dataframe\">\n  <thead>\n    <tr style=\"text-align: right;\">\n      <th></th>\n      <th>credit_score</th>\n      <th>age</th>\n      <th>balance</th>\n      <th>products_number</th>\n      <th>active_member</th>\n    </tr>\n  </thead>\n  <tbody>\n    <tr>\n      <th>0</th>\n      <td>619</td>\n      <td>42</td>\n      <td>0.00</td>\n      <td>1</td>\n      <td>1</td>\n    </tr>\n    <tr>\n      <th>1</th>\n      <td>608</td>\n      <td>41</td>\n      <td>83807.86</td>\n      <td>1</td>\n      <td>1</td>\n    </tr>\n    <tr>\n      <th>2</th>\n      <td>502</td>\n      <td>42</td>\n      <td>159660.80</td>\n      <td>3</td>\n      <td>0</td>\n    </tr>\n    <tr>\n      <th>3</th>\n      <td>699</td>\n      <td>39</td>\n      <td>0.00</td>\n      <td>2</td>\n      <td>0</td>\n    </tr>\n    <tr>\n      <th>4</th>\n      <td>850</td>\n      <td>43</td>\n      <td>125510.82</td>\n      <td>1</td>\n      <td>1</td>\n    </tr>\n  </tbody>\n</table>\n</div>"
          },
          "metadata": {}
        }
      ],
      "execution_count": 15,
      "metadata": {
        "gather": {
          "logged": 1740606632485
        }
      }
    },
    {
      "cell_type": "markdown",
      "source": [
        "**Step 5: Split Data into Training & Testing Sets**\n",
        "To evaluate our model, we divide our dataset into:\n",
        "- Training Set (80%): Used to train the machine learning model.\n",
        "- Testing Set (20%): Used to check the model’s accuracy.\n",
        "This helps in understanding how well the model performs on unseen data.\n"
      ],
      "metadata": {
        "nteract": {
          "transient": {
            "deleting": false
          }
        }
      }
    },
    {
      "cell_type": "code",
      "source": [
        "from sklearn.model_selection import train_test_split  \n",
        "\n",
        "# Split data into training (80%) and testing (20%)  \n",
        "X_train, X_test, y_train, y_test = train_test_split(X, y, test_size=0.2, random_state=42)  \n",
        "\n",
        "# Display dataset shapes\n",
        "print(f\"Training data: {X_train.shape}, Testing data: {X_test.shape}\")\n"
      ],
      "outputs": [
        {
          "output_type": "stream",
          "name": "stdout",
          "text": "Training data: (8000, 5), Testing data: (2000, 5)\n"
        }
      ],
      "execution_count": 16,
      "metadata": {
        "gather": {
          "logged": 1740606800310
        }
      }
    },
    {
      "cell_type": "markdown",
      "source": [
        "**Step 6: Train a Machine Learning Model**\n",
        "I will use Logistic Regression, a simple and effective model for predicting churn.\n",
        "The model learns patterns from training data and makes predictions on unseen customers.\n"
      ],
      "metadata": {
        "nteract": {
          "transient": {
            "deleting": false
          }
        }
      }
    },
    {
      "cell_type": "code",
      "source": [
        "from sklearn.linear_model import LogisticRegression  \n",
        "\n",
        "# Train the Logistic Regression model  \n",
        "model = LogisticRegression()  \n",
        "model.fit(X_train, y_train)  \n",
        "\n",
        "print(\"Model training completed.\")\n"
      ],
      "outputs": [
        {
          "output_type": "stream",
          "name": "stderr",
          "text": "/anaconda/envs/azureml_py310_sdkv2/lib/python3.10/site-packages/sklearn/linear_model/_logistic.py:469: ConvergenceWarning: lbfgs failed to converge (status=1):\nSTOP: TOTAL NO. of ITERATIONS REACHED LIMIT.\n\nIncrease the number of iterations (max_iter) or scale the data as shown in:\n    https://scikit-learn.org/stable/modules/preprocessing.html\nPlease also refer to the documentation for alternative solver options:\n    https://scikit-learn.org/stable/modules/linear_model.html#logistic-regression\n  n_iter_i = _check_optimize_result(\n"
        }
      ],
      "execution_count": 17,
      "metadata": {
        "gather": {
          "logged": 1740606861885
        }
      }
    },
    {
      "cell_type": "code",
      "source": [
        "from sklearn.preprocessing import StandardScaler\n",
        "\n",
        "# Scale the features\n",
        "scaler = StandardScaler()\n",
        "X_train_scaled = scaler.fit_transform(X_train)\n",
        "X_test_scaled = scaler.transform(X_test)\n",
        "\n",
        "# Train Logistic Regression on scaled data\n",
        "model = LogisticRegression(max_iter=500)\n",
        "model.fit(X_train_scaled, y_train)\n",
        "\n",
        "print(\"Model training completed.\")\n"
      ],
      "outputs": [
        {
          "output_type": "stream",
          "name": "stdout",
          "text": "Model training completed.\n"
        }
      ],
      "execution_count": 18,
      "metadata": {
        "gather": {
          "logged": 1740606926371
        }
      }
    },
    {
      "cell_type": "markdown",
      "source": [
        "**Step 7: Evaluate Model Performance**\n",
        "Once the model is trained, we will:\n",
        "- Measure accuracy\n",
        "- Generate a classification report (precision, recall, and F1-score)\n",
        "- Check the ROC Curve to understand performance\n"
      ],
      "metadata": {
        "nteract": {
          "transient": {
            "deleting": false
          }
        }
      }
    },
    {
      "cell_type": "code",
      "source": [
        "from sklearn.metrics import accuracy_score, classification_report  \n",
        "\n",
        "# Make sure X_test is scaled before predicting\n",
        "y_pred = model.predict(X_test_scaled)  # Use the scaled version!\n",
        "\n",
        "# Print accuracy and classification report  \n",
        "print(\"Accuracy:\", accuracy_score(y_test, y_pred))  \n",
        "print(\"\\nClassification Report:\\n\", classification_report(y_test, y_pred))\n"
      ],
      "outputs": [
        {
          "output_type": "stream",
          "name": "stdout",
          "text": "Accuracy: 0.8105\n\nClassification Report:\n               precision    recall  f1-score   support\n\n           0       0.82      0.97      0.89      1607\n           1       0.57      0.15      0.24       393\n\n    accuracy                           0.81      2000\n   macro avg       0.70      0.56      0.57      2000\nweighted avg       0.77      0.81      0.76      2000\n\n"
        }
      ],
      "execution_count": 20,
      "metadata": {
        "gather": {
          "logged": 1740607047371
        }
      }
    },
    {
      "cell_type": "markdown",
      "source": [
        "**Step 8: Deploy Model on Azure Machine Learning**\n",
        "Once the model is trained, we deploy it using Azure ML to enable real-time predictions.\n"
      ],
      "metadata": {
        "nteract": {
          "transient": {
            "deleting": false
          }
        }
      }
    },
    {
      "cell_type": "code",
      "source": [
        "import joblib\n",
        "\n",
        "# Save the trained model\n",
        "joblib.dump(model, \"banking_churn_model.pkl\")\n",
        "\n",
        "print(\"Model saved successfully.\")\n"
      ],
      "outputs": [
        {
          "output_type": "stream",
          "name": "stdout",
          "text": "Model saved successfully.\n"
        }
      ],
      "execution_count": 22,
      "metadata": {
        "gather": {
          "logged": 1740607643958
        }
      }
    },
    {
      "cell_type": "code",
      "source": [
        "import os\n",
        "\n",
        "# Get the current directory\n",
        "print(\"Current working directory:\", os.getcwd())\n",
        "\n",
        "# List all files in the directory\n",
        "print(\"Files in directory:\", os.listdir())\n"
      ],
      "outputs": [
        {
          "output_type": "stream",
          "name": "stdout",
          "text": "Current working directory: /mnt/batch/tasks/shared/LS_root/mounts/clusters/bank-churn-ml-instance/code/Users/rawatp181\nFiles in directory: ['.amlignore', '.amlignore.amltmp', '.ipynb_aml_checkpoints', 'Banking Customer Churn Prediction.ipynb', 'banking customer churn prediction.ipynb.amltmp', 'banking_churn_model.pkl']\n"
        }
      ],
      "execution_count": 23,
      "metadata": {
        "gather": {
          "logged": 1740607839342
        }
      }
    },
    {
      "cell_type": "code",
      "source": [
        "import os\n",
        "\n",
        "# List all files in the directory\n",
        "print(\"Files in the current directory:\\n\", os.listdir())\n"
      ],
      "outputs": [
        {
          "output_type": "stream",
          "name": "stdout",
          "text": "Files in the current directory:\n ['.amlignore', '.amlignore.amltmp', '.ipynb_aml_checkpoints', 'Banking Customer Churn Prediction.ipynb', 'banking customer churn prediction.ipynb.amltmp', 'banking_churn_model.pkl']\n"
        }
      ],
      "execution_count": 25,
      "metadata": {
        "gather": {
          "logged": 1740607942083
        }
      }
    },
    {
      "cell_type": "code",
      "source": [
        "import shutil\n",
        "import os\n",
        "\n",
        "# Define source and destination paths\n",
        "source_file = \"banking_churn_model.pkl\"\n",
        "destination_path = os.path.join(os.getcwd(), source_file)  # Move it to the current working directory\n",
        "\n",
        "# Move the file\n",
        "shutil.move(source_file, destination_path)\n",
        "\n",
        "print(f\"✅ Model moved successfully! Now download it from: {destination_path}\")\n"
      ],
      "outputs": [
        {
          "output_type": "stream",
          "name": "stdout",
          "text": "✅ Model moved successfully! Now download it from: /mnt/batch/tasks/shared/LS_root/mounts/clusters/bank-churn-ml-instance/code/Users/rawatp181/banking_churn_model.pkl\n"
        }
      ],
      "execution_count": 29,
      "metadata": {
        "gather": {
          "logged": 1740608113091
        }
      }
    },
    {
      "cell_type": "code",
      "source": [
        "import os\n",
        "\n",
        "file_path = \"/mnt/batch/tasks/shared/LS_root/mounts/clusters/bank-churn-ml-instance/code/Users/rawatp181/banking_churn_model.pkl\"\n",
        "\n",
        "# Check if file exists\n",
        "if os.path.exists(file_path):\n",
        "    print(\"✅ Model file exists at:\", file_path)\n",
        "else:\n",
        "    print(\"❌ Model file not found.\")\n"
      ],
      "outputs": [
        {
          "output_type": "stream",
          "name": "stdout",
          "text": "✅ Model file exists at: /mnt/batch/tasks/shared/LS_root/mounts/clusters/bank-churn-ml-instance/code/Users/rawatp181/banking_churn_model.pkl\n"
        }
      ],
      "execution_count": 31,
      "metadata": {
        "gather": {
          "logged": 1740608327547
        }
      }
    },
    {
      "cell_type": "code",
      "source": [
        "import os\n",
        "\n",
        "directory_path = \"/mnt/batch/tasks/shared/LS_root/mounts/clusters/bank-churn-ml-instance/code/Users/rawatp181/\"\n",
        "\n",
        "# List all files\n",
        "print(\"Files in directory:\\n\", os.listdir(directory_path))\n"
      ],
      "outputs": [
        {
          "output_type": "stream",
          "name": "stdout",
          "text": "Files in directory:\n ['.amlignore', '.amlignore.amltmp', '.ipynb_aml_checkpoints', 'Banking Customer Churn Prediction.ipynb', 'banking customer churn prediction.ipynb.amltmp', 'banking_churn_model.pkl']\n"
        }
      ],
      "execution_count": 32,
      "metadata": {
        "gather": {
          "logged": 1740608344583
        }
      }
    },
    {
      "cell_type": "code",
      "source": [
        "import shutil\n",
        "\n",
        "source_path = \"/mnt/batch/tasks/shared/LS_root/mounts/clusters/bank-churn-ml-instance/code/Users/rawatp181/banking_churn_model.pkl\"\n",
        "destination_path = \"/mnt/data/banking_churn_model.pkl\"\n",
        "\n",
        "try:\n",
        "    shutil.move(source_path, destination_path)\n",
        "    print(\"✅ Model moved successfully. Now download it from /mnt/data/\")\n",
        "except Exception as e:\n",
        "    print(\"❌ Error:\", e)\n"
      ],
      "outputs": [
        {
          "output_type": "stream",
          "name": "stdout",
          "text": "❌ Error: [Errno 2] No such file or directory: '/mnt/data/banking_churn_model.pkl'\n"
        }
      ],
      "execution_count": 33,
      "metadata": {
        "gather": {
          "logged": 1740608357007
        }
      }
    },
    {
      "cell_type": "code",
      "source": [
        "import os\n",
        "\n",
        "source_path = \"/mnt/batch/tasks/shared/LS_root/mounts/clusters/bank-churn-ml-instance/code/Users/rawatp181/banking_churn_model.pkl\"\n",
        "destination_path = \"/mnt/data/banking_churn_model.pkl\"\n",
        "\n",
        "# Check if source file exists\n",
        "if os.path.exists(source_path):\n",
        "    print(\"✅ Source file exists.\")\n",
        "else:\n",
        "    print(\"❌ Source file does NOT exist.\")\n",
        "\n",
        "# Check write permission in destination\n",
        "if os.access(\"/mnt/data/\", os.W_OK):\n",
        "    print(\"✅ Write permission available in /mnt/data/\")\n",
        "else:\n",
        "    print(\"❌ No write permission in /mnt/data/\")\n"
      ],
      "outputs": [
        {
          "output_type": "stream",
          "name": "stdout",
          "text": "✅ Source file exists.\n❌ No write permission in /mnt/data/\n"
        }
      ],
      "execution_count": 34,
      "metadata": {
        "gather": {
          "logged": 1740608405014
        }
      }
    },
    {
      "cell_type": "code",
      "source": [
        "import shutil\n",
        "import os\n",
        "\n",
        "source_path = \"/mnt/batch/tasks/shared/LS_root/mounts/clusters/bank-churn-ml-instance/code/Users/rawatp181/banking_churn_model.pkl\"\n",
        "zip_path = os.path.expanduser(\"~/banking_churn_model.zip\")  # Save zip in home directory\n",
        "\n",
        "try:\n",
        "    shutil.make_archive(zip_path.replace(\".zip\", \"\"), 'zip', os.path.dirname(source_path))\n",
        "    print(f\"✅ Model zipped successfully! Download it from: {zip_path}\")\n",
        "except Exception as e:\n",
        "    print(\"❌ Error:\", e)\n"
      ],
      "outputs": [
        {
          "output_type": "stream",
          "name": "stdout",
          "text": "✅ Model zipped successfully! Download it from: /home/azureuser/banking_churn_model.zip\n"
        }
      ],
      "execution_count": 36,
      "metadata": {
        "gather": {
          "logged": 1740608718243
        }
      }
    },
    {
      "cell_type": "code",
      "source": [
        "import os\n",
        "\n",
        "# List all directories and files in your working directory\n",
        "print(\"Current working directory:\", os.getcwd())\n",
        "print(\"Files in directory:\", os.listdir(os.getcwd()))\n"
      ],
      "outputs": [
        {
          "output_type": "stream",
          "name": "stdout",
          "text": "Current working directory: /mnt/batch/tasks/shared/LS_root/mounts/clusters/bank-churn-ml-instance/code/Users/rawatp181\nFiles in directory: ['.amlignore', '.amlignore.amltmp', '.ipynb_aml_checkpoints', 'Banking Customer Churn Prediction.ipynb', 'banking customer churn prediction.ipynb.amltmp', 'banking_churn_model.pkl']\n"
        }
      ],
      "execution_count": 37,
      "metadata": {
        "gather": {
          "logged": 1740608895320
        }
      }
    },
    {
      "cell_type": "code",
      "source": [
        "import shutil\n",
        "\n",
        "source_path = \"/mnt/batch/tasks/shared/LS_root/mounts/clusters/bank-churn-ml-instance/code/Users/rawatp181/banking_churn_model.pkl\"\n",
        "destination_path = \"/mnt/data/banking_churn_model.pkl\"\n",
        "\n",
        "try:\n",
        "    shutil.copy(source_path, destination_path)\n",
        "    print(f\"✅ File copied successfully! Download it from: {destination_path}\")\n",
        "except Exception as e:\n",
        "    print(f\"❌ Error copying file: {e}\")\n"
      ],
      "outputs": [
        {
          "output_type": "stream",
          "name": "stdout",
          "text": "❌ Error copying file: [Errno 2] No such file or directory: '/mnt/data/banking_churn_model.pkl'\n"
        }
      ],
      "execution_count": 38,
      "metadata": {
        "gather": {
          "logged": 1740608958161
        }
      }
    },
    {
      "cell_type": "markdown",
      "source": [
        "**Step 1: Load the Trained Model & Test Data**\n",
        "\n",
        "In this step, we will:\n",
        "- Load the trained churn prediction model (`.pkl` file) from Azure Notebook.\n",
        "- Load the test dataset (`CSV` file).\n",
        "- Select the required features for predictions.\n"
      ],
      "metadata": {
        "nteract": {
          "transient": {
            "deleting": false
          }
        }
      }
    },
    {
      "cell_type": "code",
      "source": [
        "with open(\"banking_churn_model.pkl\", \"rb\") as file:\n",
        "    content = file.read(10)  # Read first 10 bytes to check if it's a valid pickle\n",
        "print(content)\n"
      ],
      "outputs": [
        {
          "output_type": "stream",
          "name": "stdout",
          "text": "b'\\x80\\x04\\x95\\t\\x02\\x00\\x00\\x00\\x00\\x00'\n"
        }
      ],
      "execution_count": 40,
      "metadata": {
        "gather": {
          "logged": 1740612915775
        }
      }
    },
    {
      "cell_type": "code",
      "source": [
        "import pickle\n",
        "\n",
        "# Save the model properly again\n",
        "model_filename = \"banking_churn_model.pkl\"\n",
        "with open(model_filename, \"wb\") as file:\n",
        "    pickle.dump(model, file)\n",
        "\n",
        "print(\"Model saved successfully!\")\n"
      ],
      "outputs": [
        {
          "output_type": "stream",
          "name": "stdout",
          "text": "Model saved successfully!\n"
        }
      ],
      "execution_count": 42,
      "metadata": {
        "gather": {
          "logged": 1740612967054
        }
      }
    },
    {
      "cell_type": "code",
      "source": [
        "import os\n",
        "\n",
        "file_size = os.path.getsize(\"banking_churn_model.pkl\")\n",
        "print(f\"File size: {file_size} bytes\")\n",
        "\n"
      ],
      "outputs": [
        {
          "output_type": "stream",
          "name": "stdout",
          "text": "File size: 755 bytes\n"
        }
      ],
      "execution_count": 44,
      "metadata": {
        "gather": {
          "logged": 1740613033851
        }
      }
    },
    {
      "cell_type": "code",
      "source": [
        "import os\n",
        "print(os.getcwd())  # Print the current working directory\n",
        "print(os.listdir())  # List all files in the directory\n"
      ],
      "outputs": [
        {
          "output_type": "stream",
          "name": "stdout",
          "text": "/mnt/batch/tasks/shared/LS_root/mounts/clusters/bank-churn-ml-instance/code/Users/rawatp181\n['.amlignore', '.amlignore.amltmp', '.ipynb_aml_checkpoints', 'Banking Customer Churn Prediction.ipynb', 'banking customer churn prediction.ipynb.amltmp', 'banking_churn_model.pkl']\n"
        }
      ],
      "execution_count": 45,
      "metadata": {
        "gather": {
          "logged": 1740613044151
        }
      }
    },
    {
      "cell_type": "code",
      "source": [
        "import pickle\n",
        "\n",
        "# Load the model\n",
        "with open(\"banking_churn_model.pkl\", \"rb\") as file:\n",
        "    model = pickle.load(file)\n",
        "\n",
        "print(\"✅ Model loaded successfully!\")\n"
      ],
      "outputs": [
        {
          "output_type": "stream",
          "name": "stdout",
          "text": "✅ Model loaded successfully!\n"
        }
      ],
      "execution_count": 46,
      "metadata": {
        "gather": {
          "logged": 1740613264977
        }
      }
    },
    {
      "cell_type": "code",
      "source": [
        "import pandas as pd\n",
        "import numpy as np\n",
        "import joblib\n",
        "\n",
        "from sklearn.model_selection import train_test_split\n",
        "from sklearn.preprocessing import StandardScaler\n",
        "from sklearn.linear_model import LogisticRegression\n",
        "from sklearn.metrics import accuracy_score, classification_report"
      ],
      "outputs": [],
      "execution_count": 9,
      "metadata": {
        "gather": {
          "logged": 1741111050618
        }
      }
    },
    {
      "cell_type": "code",
      "source": [
        "import pandas as pd\n",
        "import numpy as np\n",
        "import matplotlib.pyplot as plt\n",
        "from sklearn.model_selection import train_test_split\n",
        "from sklearn.linear_model import LogisticRegression\n",
        "from sklearn.preprocessing import StandardScaler\n",
        "from sklearn.metrics import accuracy_score"
      ],
      "outputs": [],
      "execution_count": 11,
      "metadata": {
        "gather": {
          "logged": 1741111531797
        }
      }
    },
    {
      "cell_type": "code",
      "source": [
        "from azureml.core import Workspace, Dataset\n",
        "import pandas as pd\n",
        "\n",
        "# Connect to Azure ML Workspace\n",
        "ws = Workspace.from_config()\n",
        "\n",
        "# Load dataset (Ensure the dataset name matches exactly)\n",
        "dataset = Dataset.get_by_name(ws, name=\"Banking_Customer\")\n",
        "\n",
        "# Convert dataset directly to Pandas DataFrame\n",
        "df = dataset.to_pandas_dataframe()\n",
        "\n",
        "# Display first few rows to verify loading\n",
        "df.head()"
      ],
      "outputs": [
        {
          "output_type": "stream",
          "name": "stdout",
          "text": "{'infer_column_types': 'False', 'activity': 'to_pandas_dataframe'}\n{'infer_column_types': 'False', 'activity': 'to_pandas_dataframe', 'activityApp': 'TabularDataset'}\n"
        },
        {
          "output_type": "execute_result",
          "execution_count": 14,
          "data": {
            "text/plain": "   customer_id  credit_score country  gender  age  tenure    balance  \\\n0     15634602           619  France  Female   42       2       0.00   \n1     15647311           608   Spain  Female   41       1   83807.86   \n2     15619304           502  France  Female   42       8  159660.80   \n3     15701354           699  France  Female   39       1       0.00   \n4     15737888           850   Spain  Female   43       2  125510.82   \n\n   products_number  credit_card  active_member  estimated_salary  churn  \n0                1            1              1         101348.88      1  \n1                1            0              1         112542.58      0  \n2                3            1              0         113931.57      1  \n3                2            0              0          93826.63      0  \n4                1            1              1          79084.10      0  ",
            "text/html": "<div>\n<style scoped>\n    .dataframe tbody tr th:only-of-type {\n        vertical-align: middle;\n    }\n\n    .dataframe tbody tr th {\n        vertical-align: top;\n    }\n\n    .dataframe thead th {\n        text-align: right;\n    }\n</style>\n<table border=\"1\" class=\"dataframe\">\n  <thead>\n    <tr style=\"text-align: right;\">\n      <th></th>\n      <th>customer_id</th>\n      <th>credit_score</th>\n      <th>country</th>\n      <th>gender</th>\n      <th>age</th>\n      <th>tenure</th>\n      <th>balance</th>\n      <th>products_number</th>\n      <th>credit_card</th>\n      <th>active_member</th>\n      <th>estimated_salary</th>\n      <th>churn</th>\n    </tr>\n  </thead>\n  <tbody>\n    <tr>\n      <th>0</th>\n      <td>15634602</td>\n      <td>619</td>\n      <td>France</td>\n      <td>Female</td>\n      <td>42</td>\n      <td>2</td>\n      <td>0.00</td>\n      <td>1</td>\n      <td>1</td>\n      <td>1</td>\n      <td>101348.88</td>\n      <td>1</td>\n    </tr>\n    <tr>\n      <th>1</th>\n      <td>15647311</td>\n      <td>608</td>\n      <td>Spain</td>\n      <td>Female</td>\n      <td>41</td>\n      <td>1</td>\n      <td>83807.86</td>\n      <td>1</td>\n      <td>0</td>\n      <td>1</td>\n      <td>112542.58</td>\n      <td>0</td>\n    </tr>\n    <tr>\n      <th>2</th>\n      <td>15619304</td>\n      <td>502</td>\n      <td>France</td>\n      <td>Female</td>\n      <td>42</td>\n      <td>8</td>\n      <td>159660.80</td>\n      <td>3</td>\n      <td>1</td>\n      <td>0</td>\n      <td>113931.57</td>\n      <td>1</td>\n    </tr>\n    <tr>\n      <th>3</th>\n      <td>15701354</td>\n      <td>699</td>\n      <td>France</td>\n      <td>Female</td>\n      <td>39</td>\n      <td>1</td>\n      <td>0.00</td>\n      <td>2</td>\n      <td>0</td>\n      <td>0</td>\n      <td>93826.63</td>\n      <td>0</td>\n    </tr>\n    <tr>\n      <th>4</th>\n      <td>15737888</td>\n      <td>850</td>\n      <td>Spain</td>\n      <td>Female</td>\n      <td>43</td>\n      <td>2</td>\n      <td>125510.82</td>\n      <td>1</td>\n      <td>1</td>\n      <td>1</td>\n      <td>79084.10</td>\n      <td>0</td>\n    </tr>\n  </tbody>\n</table>\n</div>"
          },
          "metadata": {}
        }
      ],
      "execution_count": 14,
      "metadata": {
        "gather": {
          "logged": 1741111627654
        }
      }
    },
    {
      "cell_type": "code",
      "source": [
        "df = df[['credit_score', 'age', 'balance', 'products_number', 'active_member', 'gender', 'country', 'churn']]"
      ],
      "outputs": [],
      "execution_count": 15,
      "metadata": {
        "gather": {
          "logged": 1741111758549
        }
      }
    },
    {
      "cell_type": "code",
      "source": [
        "# Import LabelEncoder\n",
        "from sklearn.preprocessing import LabelEncoder\n",
        "\n",
        "# Encode categorical variables\n",
        "df['gender'] = df['gender'].map({'Male': 0, 'Female': 1})  # Binary Encoding\n",
        "df['country'] = LabelEncoder().fit_transform(df['country'])  # Convert country to numeric\n"
      ],
      "outputs": [],
      "execution_count": 17,
      "metadata": {
        "gather": {
          "logged": 1741111860443
        }
      }
    },
    {
      "cell_type": "code",
      "source": [
        "df.fillna(df.mean(numeric_only=True), inplace=True)"
      ],
      "outputs": [],
      "execution_count": 18,
      "metadata": {
        "gather": {
          "logged": 1741111882342
        }
      }
    },
    {
      "cell_type": "code",
      "source": [
        "X = df.drop(columns=['churn'])  # Features\n",
        "y = df['churn']  # Target Variable"
      ],
      "outputs": [],
      "execution_count": 19,
      "metadata": {
        "gather": {
          "logged": 1741111894636
        }
      }
    },
    {
      "cell_type": "code",
      "source": [
        "# Handle Missing Values: Fill NaN with Mean for Numeric Columns\n",
        "X.fillna(X.mean(numeric_only=True), inplace=True)"
      ],
      "outputs": [],
      "execution_count": 24,
      "metadata": {
        "gather": {
          "logged": 1741112057993
        }
      }
    },
    {
      "cell_type": "code",
      "source": [
        "X_train, X_test, y_train, y_test = train_test_split(X, y, test_size=0.2, random_state=42)"
      ],
      "outputs": [],
      "execution_count": 20,
      "metadata": {
        "gather": {
          "logged": 1741111904200
        }
      }
    },
    {
      "cell_type": "code",
      "source": [
        "scaler = StandardScaler()\n",
        "X_train_scaled = scaler.fit_transform(X_train)\n",
        "X_test_scaled = scaler.transform(X_test)"
      ],
      "outputs": [
        {
          "output_type": "stream",
          "name": "stderr",
          "text": "/anaconda/envs/azureml_py310_sdkv2/lib/python3.10/site-packages/sklearn/utils/extmath.py:1137: RuntimeWarning: invalid value encountered in divide\n  updated_mean = (last_sum + new_sum) / updated_sample_count\n/anaconda/envs/azureml_py310_sdkv2/lib/python3.10/site-packages/sklearn/utils/extmath.py:1142: RuntimeWarning: invalid value encountered in divide\n  T = new_sum / new_sample_count\n/anaconda/envs/azureml_py310_sdkv2/lib/python3.10/site-packages/sklearn/utils/extmath.py:1162: RuntimeWarning: invalid value encountered in divide\n  new_unnormalized_variance -= correction**2 / new_sample_count\n"
        }
      ],
      "execution_count": 21,
      "metadata": {
        "gather": {
          "logged": 1741111916879
        }
      }
    },
    {
      "cell_type": "code",
      "source": [
        "df = df[['credit_score', 'age', 'balance', 'products_number', 'active_member', 'gender', 'country', 'churn']]\n"
      ],
      "outputs": [],
      "execution_count": 26,
      "metadata": {
        "gather": {
          "logged": 1741112274479
        }
      }
    },
    {
      "cell_type": "code",
      "source": [
        "from sklearn.preprocessing import LabelEncoder\n"
      ],
      "outputs": [],
      "execution_count": 27,
      "metadata": {
        "gather": {
          "logged": 1741112283005
        }
      }
    },
    {
      "cell_type": "code",
      "source": [
        "df['gender'] = df['gender'].map({'Male': 0, 'Female': 1})  # Binary Encoding\n",
        "df['country'] = LabelEncoder().fit_transform(df['country'])  # Convert country to numeric\n"
      ],
      "outputs": [],
      "execution_count": 28,
      "metadata": {
        "gather": {
          "logged": 1741112292052
        }
      }
    },
    {
      "cell_type": "code",
      "source": [
        "print(df.isnull().sum())  # This will show where NaNs exist\n"
      ],
      "outputs": [
        {
          "output_type": "stream",
          "name": "stdout",
          "text": "credit_score           0\nage                    0\nbalance                0\nproducts_number        0\nactive_member          0\ngender             10000\ncountry                0\nchurn                  0\ndtype: int64\n"
        }
      ],
      "execution_count": 29,
      "metadata": {
        "gather": {
          "logged": 1741112301673
        }
      }
    },
    {
      "cell_type": "code",
      "source": [
        "df.fillna(df.mean(numeric_only=True), inplace=True)\n"
      ],
      "outputs": [],
      "execution_count": 30,
      "metadata": {
        "gather": {
          "logged": 1741112318162
        }
      }
    },
    {
      "cell_type": "code",
      "source": [
        "print(X_train.isnull().sum())  # Ensure no NaNs exist in training data\n",
        "print(X_test.isnull().sum())\n"
      ],
      "outputs": [
        {
          "output_type": "stream",
          "name": "stdout",
          "text": "credit_score          0\nage                   0\nbalance               0\nproducts_number       0\nactive_member         0\ngender             8000\ncountry               0\ndtype: int64\ncredit_score          0\nage                   0\nbalance               0\nproducts_number       0\nactive_member         0\ngender             2000\ncountry               0\ndtype: int64\n"
        }
      ],
      "execution_count": 31,
      "metadata": {
        "gather": {
          "logged": 1741112330120
        }
      }
    },
    {
      "cell_type": "code",
      "source": [
        "from sklearn.preprocessing import StandardScaler\n",
        "scaler = StandardScaler()\n",
        "X_train_scaled = scaler.fit_transform(X_train)  # Fit and transform training data\n",
        "X_test_scaled = scaler.transform(X_test)  # Only transform test data\n"
      ],
      "outputs": [
        {
          "output_type": "stream",
          "name": "stderr",
          "text": "/anaconda/envs/azureml_py310_sdkv2/lib/python3.10/site-packages/sklearn/utils/extmath.py:1137: RuntimeWarning: invalid value encountered in divide\n  updated_mean = (last_sum + new_sum) / updated_sample_count\n/anaconda/envs/azureml_py310_sdkv2/lib/python3.10/site-packages/sklearn/utils/extmath.py:1142: RuntimeWarning: invalid value encountered in divide\n  T = new_sum / new_sample_count\n/anaconda/envs/azureml_py310_sdkv2/lib/python3.10/site-packages/sklearn/utils/extmath.py:1162: RuntimeWarning: invalid value encountered in divide\n  new_unnormalized_variance -= correction**2 / new_sample_count\n"
        }
      ],
      "execution_count": 32,
      "metadata": {
        "gather": {
          "logged": 1741112348664
        }
      }
    },
    {
      "cell_type": "code",
      "source": [
        "import numpy as np\n",
        "print(np.isnan(X_train_scaled).sum())  # Should print 0\n",
        "print(np.isnan(X_test_scaled).sum())   # Should print 0\n"
      ],
      "outputs": [
        {
          "output_type": "stream",
          "name": "stdout",
          "text": "8000\n2000\n"
        }
      ],
      "execution_count": 33,
      "metadata": {
        "gather": {
          "logged": 1741112359365
        }
      }
    },
    {
      "cell_type": "code",
      "source": [
        "import numpy as np\n",
        "print(\"NaN values in X_train_scaled:\", np.isnan(X_train_scaled).sum())\n",
        "print(\"NaN values in y_train:\", np.isnan(y_train).sum())\n"
      ],
      "outputs": [
        {
          "output_type": "stream",
          "name": "stdout",
          "text": "NaN values in X_train_scaled: 8000\nNaN values in y_train: 0\n"
        }
      ],
      "execution_count": 35,
      "metadata": {
        "gather": {
          "logged": 1741112486309
        }
      }
    },
    {
      "cell_type": "code",
      "source": [
        "X_train_scaled = np.nan_to_num(X_train_scaled)\n",
        "X_test_scaled = np.nan_to_num(X_test_scaled)\n",
        "y_train = np.nan_to_num(y_train)\n"
      ],
      "outputs": [],
      "execution_count": 36,
      "metadata": {
        "gather": {
          "logged": 1741112495845
        }
      }
    },
    {
      "cell_type": "code",
      "source": [
        "y_train = y_train.astype(int)\n"
      ],
      "outputs": [],
      "execution_count": 37,
      "metadata": {
        "gather": {
          "logged": 1741112506298
        }
      }
    },
    {
      "cell_type": "code",
      "source": [
        "from sklearn.linear_model import LogisticRegression\n",
        "model = LogisticRegression(max_iter=500)\n",
        "model.fit(X_train_scaled, y_train)\n",
        "print(\"✅ Model training completed successfully!\")\n"
      ],
      "outputs": [
        {
          "output_type": "stream",
          "name": "stdout",
          "text": "✅ Model training completed successfully!\n"
        }
      ],
      "execution_count": 38,
      "metadata": {
        "gather": {
          "logged": 1741112519438
        }
      }
    },
    {
      "cell_type": "code",
      "source": [
        "import numpy as np\n",
        "print(\"NaN values in X_test_scaled:\", np.isnan(X_test_scaled).sum())\n",
        "print(\"NaN values in y_test:\", np.isnan(y_test).sum())\n"
      ],
      "outputs": [
        {
          "output_type": "stream",
          "name": "stdout",
          "text": "NaN values in X_test_scaled: 0\nNaN values in y_test: 0\n"
        }
      ],
      "execution_count": 39,
      "metadata": {
        "gather": {
          "logged": 1741112584658
        }
      }
    },
    {
      "cell_type": "code",
      "source": [
        "X_test_scaled = np.nan_to_num(X_test_scaled)\n",
        "y_test = np.nan_to_num(y_test)\n"
      ],
      "outputs": [],
      "execution_count": 40,
      "metadata": {
        "gather": {
          "logged": 1741112601655
        }
      }
    },
    {
      "cell_type": "code",
      "source": [
        "from sklearn.metrics import accuracy_score, classification_report\n",
        "y_pred = model.predict(X_test_scaled)\n",
        "print(f\"✅ Accuracy: {accuracy_score(y_test, y_pred):.2f}\")\n",
        "print(\"\\nClassification Report:\\n\", classification_report(y_test, y_pred))\n"
      ],
      "outputs": [
        {
          "output_type": "stream",
          "name": "stdout",
          "text": "✅ Accuracy: 0.81\n\nClassification Report:\n               precision    recall  f1-score   support\n\n           0       0.82      0.97      0.89      1607\n           1       0.56      0.16      0.24       393\n\n    accuracy                           0.81      2000\n   macro avg       0.69      0.56      0.57      2000\nweighted avg       0.77      0.81      0.76      2000\n\n"
        }
      ],
      "execution_count": 41,
      "metadata": {
        "gather": {
          "logged": 1741112617929
        }
      }
    },
    {
      "cell_type": "code",
      "source": [
        "import matplotlib.pyplot as plt"
      ],
      "outputs": [],
      "execution_count": 42,
      "metadata": {
        "gather": {
          "logged": 1741112902455
        }
      }
    },
    {
      "cell_type": "code",
      "source": [
        "churned = df[df['churn'] == 1]\n",
        "non_churned = df[df['churn'] == 0]\n"
      ],
      "outputs": [],
      "execution_count": 43,
      "metadata": {
        "gather": {
          "logged": 1741112913774
        }
      }
    },
    {
      "cell_type": "code",
      "source": [
        "axes[0, 0].bar(['Churned', 'Not Churned'], [churned['balance'].mean(), non_churned['balance'].mean()], color=['red', 'blue'])\n",
        "axes[0, 0].set_title(\"Avg. Account Balance (Churned vs. Not Churned)\")"
      ],
      "outputs": [
        {
          "output_type": "execute_result",
          "execution_count": 45,
          "data": {
            "text/plain": "Text(0.5, 1.0, 'Avg. Account Balance (Churned vs. Not Churned)')"
          },
          "metadata": {}
        }
      ],
      "execution_count": 45,
      "metadata": {
        "gather": {
          "logged": 1741112939784
        }
      }
    },
    {
      "cell_type": "code",
      "source": [
        "# Create subplots for visualization\n",
        "fig, axes = plt.subplots(2, 2, figsize=(12, 10))\n",
        "\n",
        "# H₁: Lower Account Balance → Higher Churn\n",
        "axes[0, 0].bar(['Churned', 'Not Churned'], [churned['balance'].mean(), non_churned['balance'].mean()], color=['red', 'blue'])\n",
        "axes[0, 0].set_title(\"Avg. Account Balance (Churned vs. Not Churned)\")\n",
        "\n",
        "# H₂: Lower Product Count → Higher Churn\n",
        "axes[0, 1].bar(['Churned', 'Not Churned'], [churned['products_number'].mean(), non_churned['products_number'].mean()], color=['red', 'blue'])\n",
        "axes[0, 1].set_title(\"Avg. Products Used (Churned vs. Not Churned)\")\n",
        "\n",
        "# H₃: Inactive Members → Higher Churn\n",
        "axes[1, 0].bar(['Churned', 'Not Churned'], [churned['active_member'].mean(), non_churned['active_member'].mean()], color=['red', 'blue'])\n",
        "axes[1, 0].set_title(\"Avg. Active Membership (Churned vs. Not Churned)\")\n",
        "\n",
        "# H₄: Lower Credit Score → Higher Churn\n",
        "axes[1, 1].bar(['Churned', 'Not Churned'], [churned['credit_score'].mean(), non_churned['credit_score'].mean()], color=['red', 'blue'])\n",
        "axes[1, 1].set_title(\"Avg. Credit Score (Churned vs. Not Churned)\")\n",
        "\n",
        "# Layout & Show Plot\n",
        "plt.tight_layout()\n",
        "plt.show()"
      ],
      "outputs": [
        {
          "output_type": "display_data",
          "data": {
            "text/plain": "<Figure size 1200x1000 with 4 Axes>",
            "image/png": "[encoded data removed]"
          },
          "metadata": {}
        }
      ],
      "execution_count": 47,
      "metadata": {
        "gather": {
          "logged": 1741112988993
        }
      }
    },
    {
      "cell_type": "code",
      "source": [
        "import joblib\n",
        "from sklearn.preprocessing import StandardScaler\n",
        "\n",
        "# Recreate the scaler (use the training data)\n",
        "scaler = StandardScaler()\n",
        "scaler.fit(X_train)  # Fit on training data\n",
        "\n",
        "# Save the scaler\n",
        "joblib.dump(scaler, \"scaler.pkl\")\n",
        "print(\"✅ Scaler saved successfully!\")\n"
      ],
      "outputs": [
        {
          "output_type": "stream",
          "name": "stderr",
          "text": "/anaconda/envs/azureml_py310_sdkv2/lib/python3.10/site-packages/sklearn/utils/extmath.py:1137: RuntimeWarning: invalid value encountered in divide\n  updated_mean = (last_sum + new_sum) / updated_sample_count\n/anaconda/envs/azureml_py310_sdkv2/lib/python3.10/site-packages/sklearn/utils/extmath.py:1142: RuntimeWarning: invalid value encountered in divide\n  T = new_sum / new_sample_count\n/anaconda/envs/azureml_py310_sdkv2/lib/python3.10/site-packages/sklearn/utils/extmath.py:1162: RuntimeWarning: invalid value encountered in divide\n  new_unnormalized_variance -= correction**2 / new_sample_count\n"
        }
      ],
      "execution_count": 49,
      "metadata": {
        "gather": {
          "logged": 1741113510321
        }
      }
    },
    {
      "cell_type": "code",
      "source": [
        "import os\n",
        "print(os.listdir())  # This will list all files in the directory\n"
      ],
      "outputs": [
        {
          "output_type": "stream",
          "name": "stdout",
          "text": "['.amlignore', '.amlignore.amltmp', '.ipynb_aml_checkpoints', 'Banking Customer Churn Prediction.ipynb', 'banking customer churn prediction.ipynb.amltmp', 'banking_churn_model.pkl', 'scaler.pkl']\n"
        }
      ],
      "execution_count": 50,
      "metadata": {
        "gather": {
          "logged": 1741113527073
        }
      }
    },
    {
      "cell_type": "code",
      "source": [
        "# Keep only required features\n",
        "features = [\"credit_score\", \"age\", \"balance\", \"products_number\", \"active_member\"]\n",
        "customer_data = customer_data[features]\n"
      ],
      "outputs": [],
      "execution_count": 53,
      "metadata": {
        "gather": {
          "logged": 1741113790107
        }
      }
    },
    {
      "cell_type": "code",
      "source": [
        "print(\"Columns in customer_data:\", customer_data.columns)\n"
      ],
      "outputs": [
        {
          "output_type": "stream",
          "name": "stdout",
          "text": "Columns in customer_data: Index(['credit_score', 'age', 'balance', 'products_number', 'active_member'], dtype='object')\n"
        }
      ],
      "execution_count": 55,
      "metadata": {
        "gather": {
          "logged": 1741113969652
        }
      }
    },
    {
      "cell_type": "code",
      "source": [
        "# Ensure all required features exist\n",
        "required_features = [\"credit_score\", \"country\", \"gender\", \"age\", \"tenure\", \n",
        "                     \"balance\", \"products_number\", \"credit_card\", \"active_member\", \"estimated_salary\"]\n",
        "\n",
        "# Print missing features\n",
        "missing_features = [col for col in required_features if col not in customer_data.columns]\n",
        "print(\"Missing Features:\", missing_features)\n",
        "\n",
        "# Add missing features with default values (use mean/mode if appropriate)\n",
        "for col in missing_features:\n",
        "    if col in [\"tenure\", \"credit_card\", \"estimated_salary\"]:  # Numerical missing values\n",
        "        customer_data[col] = 0  # Set default or use actual values if available\n",
        "    else:\n",
        "        customer_data[col] = \"Unknown\"  # Placeholder for categorical variables\n",
        "\n",
        "# Verify that all required columns exist\n",
        "print(\"Updated Columns in customer_data:\", customer_data.columns)\n"
      ],
      "outputs": [
        {
          "output_type": "stream",
          "name": "stdout",
          "text": "Missing Features: ['country', 'gender', 'tenure', 'credit_card', 'estimated_salary']\nUpdated Columns in customer_data: Index(['credit_score', 'age', 'balance', 'products_number', 'active_member',\n       'country', 'gender', 'tenure', 'credit_card', 'estimated_salary'],\n      dtype='object')\n"
        }
      ],
      "execution_count": 56,
      "metadata": {
        "gather": {
          "logged": 1741114098213
        }
      }
    },
    {
      "cell_type": "code",
      "source": [
        "import joblib\n",
        "import pandas as pd"
      ],
      "outputs": [],
      "execution_count": 63,
      "metadata": {
        "gather": {
          "logged": 1741114678018
        }
      }
    },
    {
      "cell_type": "code",
      "source": [
        "model = joblib.load(\"banking_churn_model.pkl\")\n",
        "scaler = joblib.load(\"scaler.pkl\")\n"
      ],
      "outputs": [],
      "execution_count": 64,
      "metadata": {
        "gather": {
          "logged": 1741114690384
        }
      }
    },
    {
      "cell_type": "code",
      "source": [
        "trained_features = [\"credit_score\", \"country\", \"gender\", \"age\", \"balance\", \"products_number\", \"active_member\"]\n"
      ],
      "outputs": [],
      "execution_count": 65,
      "metadata": {
        "gather": {
          "logged": 1741114703639
        }
      }
    },
    {
      "cell_type": "code",
      "source": [
        "# Load customer data (ensuring the features match training)\n",
        "customer_data = pd.DataFrame({\n",
        "    \"credit_score\": [751, 581, 735, 661, 675, 738, 813, 657, 604, 519, 735, 664, 678, 757, 416, 665, 777],\n",
        "    \"country\": [\"Germany\", \"Germany\", \"Germany\", \"Germany\", \"France\", \"Germany\", \"France\", \"Spain\", \"Germany\", \"France\",\n",
        "                \"France\", \"France\", \"France\", \"Spain\", \"Germany\", \"France\", \"France\"],\n",
        "    \"gender\": [\"Female\", \"Female\", \"Male\", \"Female\", \"Female\", \"Male\", \"Male\", \"Female\", \"Female\", \"Male\",\n",
        "               \"Female\", \"Male\", \"Female\", \"Male\", \"Female\", \"Female\", \"Female\"],\n",
        "    \"age\": [36, 34, 43, 35, 21, 58, 29, 37, 25, 36, 21, 55, 32, 33, 41, 34, 32],\n",
        "    \"balance\": [169831.46, 101633.04, 123180.01, 150725.53, 98373.26, 133745.44, 0, 163607.18, 157780.84, 0, \n",
        "                178718.19, 0, 0, 77253.22, 122189.66, 96645.54, 0],\n",
        "    \"products_number\": [2, 1, 2, 2, 1, 4, 1, 1, 2, 2, 2, 2, 1, 1, 2, 2, 1],\n",
        "    \"active_member\": [1, 0, 1, 1, 0, 0, 0, 1, 1, 1, 0, 1, 1, 1, 0, 0, 0]\n",
        "})"
      ],
      "outputs": [],
      "execution_count": 66,
      "metadata": {
        "gather": {
          "logged": 1741114729182
        }
      }
    },
    {
      "cell_type": "code",
      "source": [
        "# Convert categorical features (ensure they are encoded the same way as during training)\n",
        "customer_data[\"country\"] = customer_data[\"country\"].astype(\"category\").cat.codes  \n",
        "customer_data[\"gender\"] = customer_data[\"gender\"].map({\"Male\": 0, \"Female\": 1})  "
      ],
      "outputs": [],
      "execution_count": 67,
      "metadata": {
        "gather": {
          "logged": 1741114741901
        }
      }
    },
    {
      "cell_type": "code",
      "source": [
        "# Ensure feature order matches exactly what was used during training\n",
        "customer_data = customer_data[trained_features]"
      ],
      "outputs": [],
      "execution_count": 68,
      "metadata": {
        "gather": {
          "logged": 1741114754541
        }
      }
    },
    {
      "cell_type": "code",
      "source": [
        "# Ensure feature order matches exactly what was used during training\n",
        "trained_features = [\"credit_score\", \"age\", \"balance\", \"products_number\", \"active_member\"]"
      ],
      "outputs": [],
      "execution_count": 71,
      "metadata": {
        "gather": {
          "logged": 1741114850793
        }
      }
    },
    {
      "cell_type": "code",
      "source": [
        "# Reorder the columns in customer_data\n",
        "customer_data = customer_data[trained_features]"
      ],
      "outputs": [],
      "execution_count": 72,
      "metadata": {
        "gather": {
          "logged": 1741114864064
        }
      }
    },
    {
      "cell_type": "code",
      "source": [
        "# Check if 'country' and 'gender' exist before encoding\n",
        "if \"country\" in customer_data.columns:\n",
        "    customer_data[\"country\"] = customer_data[\"country\"].astype(\"category\").cat.codes\n",
        "else:\n",
        "    print(\"⚠️ Warning: 'country' column not found in customer_data!\")\n",
        "\n",
        "if \"gender\" in customer_data.columns:\n",
        "    customer_data[\"gender\"] = customer_data[\"gender\"].map({\"Male\": 0, \"Female\": 1})\n",
        "else:\n",
        "    print(\"⚠️ Warning: 'gender' column not found in customer_data!\")\n",
        "\n",
        "# Define the trained feature order (must match the model’s training data)\n",
        "trained_features = [\"credit_score\", \"country\", \"gender\", \"age\", \"balance\", \"products_number\", \"active_member\"]\n",
        "\n",
        "# Ensure all required features exist\n",
        "missing_features = [col for col in trained_features if col not in customer_data.columns]\n",
        "if missing_features:\n",
        "    print(f\"⚠️ Warning: Missing features in customer_data: {missing_features}\")\n",
        "else:\n",
        "    # Reorder columns exactly as during training\n",
        "    customer_data = customer_data[trained_features]\n",
        "\n",
        "    # Scale the data\n",
        "    customer_data_scaled = scaler.transform(customer_data)\n",
        "\n",
        "    # Make predictions\n",
        "    predictions = model.predict(customer_data_scaled)\n",
        "\n",
        "    # Attach predictions to customer data\n",
        "    customer_data[\"Predicted Churn\"] = predictions\n",
        "\n",
        "    # Display results\n",
        "    import ace_tools as tools\n",
        "    tools.display_dataframe_to_user(name=\"Customer Churn Predictions\", dataframe=customer_data)\n"
      ],
      "outputs": [
        {
          "output_type": "stream",
          "name": "stdout",
          "text": "⚠️ Warning: 'country' column not found in customer_data!\n⚠️ Warning: 'gender' column not found in customer_data!\n⚠️ Warning: Missing features in customer_data: ['country', 'gender']\n"
        }
      ],
      "execution_count": 76,
      "metadata": {
        "gather": {
          "logged": 1741115027286
        }
      }
    },
    {
      "cell_type": "code",
      "source": [
        "import pandas as pd\n",
        "\n",
        "# Ensure missing categorical columns exist\n",
        "if \"country\" not in customer_data.columns:\n",
        "    customer_data[\"country\"] = \"Unknown\"  # Placeholder\n",
        "\n",
        "if \"gender\" not in customer_data.columns:\n",
        "    customer_data[\"gender\"] = \"Unknown\"  # Placeholder\n",
        "\n",
        "# Encode categorical variables (must match the model training encoding)\n",
        "customer_data[\"country\"] = customer_data[\"country\"].astype(\"category\").cat.codes\n",
        "customer_data[\"gender\"] = customer_data[\"gender\"].map({\"Male\": 0, \"Female\": 1})\n",
        "\n",
        "# Define trained features in the correct order\n",
        "trained_features = [\"credit_score\", \"country\", \"gender\", \"age\", \"balance\", \"products_number\", \"active_member\"]\n",
        "\n",
        "# Ensure only trained features are selected\n",
        "customer_data = customer_data[trained_features]"
      ],
      "outputs": [],
      "execution_count": 81,
      "metadata": {
        "gather": {
          "logged": 1741116605185
        }
      }
    },
    {
      "cell_type": "code",
      "source": [
        "# ✅ Check for missing values\n",
        "if customer_data.isnull().sum().sum() > 0:\n",
        "    print(\"🚨 Warning: Missing values detected. Fixing them...\")\n",
        "    customer_data.fillna(customer_data.mean(), inplace=True)  # Fill with column mean"
      ],
      "outputs": [
        {
          "output_type": "stream",
          "name": "stdout",
          "text": "🚨 Warning: Missing values detected. Fixing them...\n"
        }
      ],
      "execution_count": 82,
      "metadata": {
        "gather": {
          "logged": 1741116619001
        }
      }
    },
    {
      "cell_type": "code",
      "source": [
        "# ✅ Ensure feature order matches model training\n",
        "model_features = scaler.feature_names_in_\n",
        "if list(customer_data.columns) != list(model_features):\n",
        "    print(\"🚨 Feature Mismatch! Fixing column order...\")\n",
        "    customer_data = customer_data[model_features]"
      ],
      "outputs": [
        {
          "output_type": "stream",
          "name": "stdout",
          "text": "🚨 Feature Mismatch! Fixing column order...\n"
        }
      ],
      "execution_count": 83,
      "metadata": {
        "gather": {
          "logged": 1741116632892
        }
      }
    },
    {
      "cell_type": "code",
      "source": [
        "# Scale the data\n",
        "customer_data_scaled = scaler.transform(customer_data)"
      ],
      "outputs": [],
      "execution_count": 84,
      "metadata": {
        "gather": {
          "logged": 1741116645311
        }
      }
    },
    {
      "cell_type": "code",
      "source": [
        "import numpy as np\n",
        "\n",
        "# 🚀 Check for missing values after scaling\n",
        "if np.isnan(customer_data_scaled).sum() > 0:\n",
        "    print(\"🚨 Warning: Missing values detected in scaled data. Fixing them...\")"
      ],
      "outputs": [
        {
          "output_type": "stream",
          "name": "stdout",
          "text": "🚨 Warning: Missing values detected in scaled data. Fixing them...\n"
        }
      ],
      "execution_count": 87,
      "metadata": {
        "gather": {
          "logged": 1741116818840
        }
      }
    },
    {
      "cell_type": "code",
      "source": [
        "# Fill NaN values with column means (imputation)\n",
        "from sklearn.impute import SimpleImputer\n",
        "\n",
        "imputer = SimpleImputer(strategy=\"mean\")\n",
        "customer_data_scaled = imputer.fit_transform(customer_data_scaled)\n"
      ],
      "outputs": [
        {
          "output_type": "stream",
          "name": "stderr",
          "text": "/anaconda/envs/azureml_py310_sdkv2/lib/python3.10/site-packages/sklearn/impute/_base.py:598: UserWarning: Skipping features without any observed values: [5]. At least one non-missing value is needed for imputation with strategy='mean'.\n  warnings.warn(\n"
        }
      ],
      "execution_count": 89,
      "metadata": {
        "gather": {
          "logged": 1741116903280
        }
      }
    },
    {
      "cell_type": "code",
      "source": [
        "# Ensure only trained features are used\n",
        "trained_features = [\"credit_score\", \"age\", \"balance\", \"products_number\", \"active_member\"]\n",
        "customer_data = customer_data[trained_features]"
      ],
      "outputs": [],
      "execution_count": 92,
      "metadata": {
        "gather": {
          "logged": 1741117142092
        }
      }
    },
    {
      "cell_type": "code",
      "source": [
        "# Ensure missing categorical columns exist\n",
        "if \"country\" not in customer_data.columns:\n",
        "    print(\"⚠️ Warning: 'country' column not found in customer_data!\")\n",
        "if \"gender\" not in customer_data.columns:\n",
        "    print(\"⚠️ Warning: 'gender' column not found in customer_data!\")"
      ],
      "outputs": [
        {
          "output_type": "stream",
          "name": "stdout",
          "text": "⚠️ Warning: 'country' column not found in customer_data!\n⚠️ Warning: 'gender' column not found in customer_data!\n"
        }
      ],
      "execution_count": 94,
      "metadata": {
        "gather": {
          "logged": 1741117275077
        }
      }
    },
    {
      "cell_type": "code",
      "source": [
        "# Print features used during training\n",
        "print(\"Features used during training:\", scaler.feature_names_in_)\n",
        "\n",
        "# Print current customer_data columns before scaling\n",
        "print(\"Features in customer_data:\", customer_data.columns.tolist())\n"
      ],
      "outputs": [
        {
          "output_type": "stream",
          "name": "stdout",
          "text": "Features used during training: ['credit_score' 'age' 'balance' 'products_number' 'active_member' 'gender'\n 'country']\nFeatures in customer_data: ['credit_score', 'age', 'balance', 'products_number', 'active_member', 'country', 'gender']\n"
        }
      ],
      "execution_count": 98,
      "metadata": {
        "gather": {
          "logged": 1741117623220
        }
      }
    },
    {
      "cell_type": "code",
      "source": [
        "# Ensure customer_data columns match training order\n",
        "correct_order = [\"credit_score\", \"age\", \"balance\", \"products_number\", \"active_member\", \"gender\", \"country\"]\n",
        "customer_data = customer_data[correct_order]  # Reorder columns\n"
      ],
      "outputs": [],
      "execution_count": 100,
      "metadata": {
        "gather": {
          "logged": 1741117705386
        }
      }
    },
    {
      "cell_type": "code",
      "source": [
        "# Print new order to confirm\n",
        "print(\"✅ Corrected column order:\", customer_data.columns.tolist())"
      ],
      "outputs": [
        {
          "output_type": "stream",
          "name": "stdout",
          "text": "✅ Corrected column order: ['credit_score', 'age', 'balance', 'products_number', 'active_member', 'gender', 'country']\n"
        }
      ],
      "execution_count": 101,
      "metadata": {
        "gather": {
          "logged": 1741117718758
        }
      }
    },
    {
      "cell_type": "code",
      "source": [
        "# Print features used during training\n",
        "print(\"Features used during training:\", scaler.feature_names_in_)\n",
        "\n",
        "# Print features in customer_data\n",
        "print(\"Features in customer_data before scaling:\", customer_data.columns.tolist())\n"
      ],
      "outputs": [
        {
          "output_type": "stream",
          "name": "stdout",
          "text": "Features used during training: ['credit_score' 'age' 'balance' 'products_number' 'active_member' 'gender'\n 'country']\nFeatures in customer_data before scaling: ['credit_score', 'age', 'balance', 'products_number', 'active_member', 'gender', 'country']\n"
        }
      ],
      "execution_count": 102,
      "metadata": {
        "gather": {
          "logged": 1741117817855
        }
      }
    },
    {
      "cell_type": "code",
      "source": [
        "# Ensure 'country' and 'gender' exist in customer_data\n",
        "for col in [\"country\", \"gender\"]:\n",
        "    if col not in customer_data.columns:\n",
        "        print(f\"⚠️ Warning: '{col}' column not found! Adding default values...\")\n",
        "        customer_data[col] = \"Unknown\"  # Assign a default category\n"
      ],
      "outputs": [],
      "execution_count": 103,
      "metadata": {
        "gather": {
          "logged": 1741117851208
        }
      }
    },
    {
      "cell_type": "code",
      "source": [
        "print(customer_data.dtypes)\n"
      ],
      "outputs": [
        {
          "output_type": "stream",
          "name": "stdout",
          "text": "credit_score         int64\nage                  int64\nbalance            float64\nproducts_number      int64\nactive_member        int64\ngender             float64\ncountry            float64\ndtype: object\n"
        }
      ],
      "execution_count": 104,
      "metadata": {
        "gather": {
          "logged": 1741117914931
        }
      }
    },
    {
      "cell_type": "code",
      "source": [
        "# Apply the same encoding used during training\n",
        "customer_data[\"country\"] = customer_data[\"country\"].map({\"France\": 0, \"Spain\": 1, \"Germany\": 2})\n",
        "customer_data[\"gender\"] = customer_data[\"gender\"].map({\"Male\": 0, \"Female\": 1})\n",
        "\n",
        "# Fill NaNs (if any country or gender value wasn't mapped)\n",
        "customer_data.fillna({\"country\": 0, \"gender\": 1}, inplace=True)  # Defaulting to France & Female\n",
        "\n",
        "print(\"\\n✅ Categorical encoding applied successfully!\")\n",
        "print(customer_data.head())\n"
      ],
      "outputs": [
        {
          "output_type": "stream",
          "name": "stdout",
          "text": "\n✅ Categorical encoding applied successfully!\n   credit_score  age    balance  products_number  active_member  gender  \\\n0           751   36  169831.46                2              1     1.0   \n1           581   34  101633.04                1              0     1.0   \n2           735   43  123180.01                2              1     1.0   \n3           661   35  150725.53                2              1     1.0   \n4           675   21   98373.26                1              0     1.0   \n\n   country  \n0      0.0  \n1      0.0  \n2      0.0  \n3      0.0  \n4      0.0  \n"
        }
      ],
      "execution_count": 105,
      "metadata": {
        "gather": {
          "logged": 1741117965515
        }
      }
    },
    {
      "cell_type": "code",
      "source": [
        "# Ensure correct feature order\n",
        "customer_data = customer_data[scaler.feature_names_in_]\n",
        "\n",
        "print(\"\\n✅ Final column order ensured:\", customer_data.columns.tolist())\n"
      ],
      "outputs": [
        {
          "output_type": "stream",
          "name": "stdout",
          "text": "\n✅ Final column order ensured: ['credit_score', 'age', 'balance', 'products_number', 'active_member', 'gender', 'country']\n"
        }
      ],
      "execution_count": 106,
      "metadata": {
        "gather": {
          "logged": 1741117984210
        }
      }
    },
    {
      "cell_type": "code",
      "source": [
        "# Convert all features to float\n",
        "customer_data = customer_data.astype(float)\n",
        "\n",
        "print(\"\\n✅ Data converted to float type. Ready for scaling!\")\n",
        "print(customer_data.dtypes)\n"
      ],
      "outputs": [
        {
          "output_type": "stream",
          "name": "stdout",
          "text": "\n✅ Data converted to float type. Ready for scaling!\ncredit_score       float64\nage                float64\nbalance            float64\nproducts_number    float64\nactive_member      float64\ngender             float64\ncountry            float64\ndtype: object\n"
        }
      ],
      "execution_count": 107,
      "metadata": {
        "gather": {
          "logged": 1741117997594
        }
      }
    },
    {
      "cell_type": "code",
      "source": [
        "# Scale the data\n",
        "customer_data_scaled = scaler.transform(customer_data)"
      ],
      "outputs": [],
      "execution_count": 109,
      "metadata": {
        "gather": {
          "logged": 1741118048784
        }
      }
    },
    {
      "cell_type": "code",
      "source": [
        "import numpy as np\n",
        "\n",
        "# Check for NaN values in the scaled data\n",
        "print(\"\\n✅ Checking for NaN values after scaling:\")\n",
        "print(np.isnan(customer_data_scaled).sum())\n"
      ],
      "outputs": [
        {
          "output_type": "stream",
          "name": "stdout",
          "text": "\n✅ Checking for NaN values after scaling:\n17\n"
        }
      ],
      "execution_count": 111,
      "metadata": {
        "gather": {
          "logged": 1741118144604
        }
      }
    },
    {
      "cell_type": "code",
      "source": [
        "# Remove rows with NaN values\n",
        "customer_data_scaled = customer_data_scaled[~np.isnan(customer_data_scaled).any(axis=1)]\n",
        "print(\"\\n✅ Removed rows with NaN values!\")\n"
      ],
      "outputs": [
        {
          "output_type": "stream",
          "name": "stdout",
          "text": "\n✅ Removed rows with NaN values!\n"
        }
      ],
      "execution_count": 113,
      "metadata": {
        "gather": {
          "logged": 1741118226126
        }
      }
    },
    {
      "cell_type": "code",
      "source": [
        "# Print the number of features the model was trained on\n",
        "print(\"\\n✅ Model was trained on\", model.n_features_in_, \"features.\")\n",
        "\n",
        "# Print the number of features in the new input data\n",
        "print(\"\\n✅ Current input data has\", customer_data_scaled.shape[1], \"features.\")\n"
      ],
      "outputs": [
        {
          "output_type": "stream",
          "name": "stdout",
          "text": "\n✅ Model was trained on 5 features.\n\n✅ Current input data has 6 features.\n"
        }
      ],
      "execution_count": 115,
      "metadata": {
        "gather": {
          "logged": 1741118320244
        }
      }
    },
    {
      "cell_type": "code",
      "source": [
        "# Print expected features\n",
        "expected_features = scaler.feature_names_in_\n",
        "print(\"\\n✅ Model expects these features:\", expected_features)\n",
        "\n",
        "# Print actual features in the new input data\n",
        "actual_features = list(customer_data.columns)\n",
        "print(\"\\n✅ Features in customer_data:\", actual_features)\n"
      ],
      "outputs": [
        {
          "output_type": "stream",
          "name": "stdout",
          "text": "\n✅ Model expects these features: ['credit_score' 'age' 'balance' 'products_number' 'active_member' 'gender'\n 'country']\n\n✅ Features in customer_data: ['credit_score', 'age', 'balance', 'products_number', 'active_member', 'gender', 'country']\n"
        }
      ],
      "execution_count": 116,
      "metadata": {
        "gather": {
          "logged": 1741118396961
        }
      }
    },
    {
      "cell_type": "code",
      "source": [
        "# Manually define the expected features based on training data\n",
        "expected_features = ['credit_score', 'age', 'balance', 'products_number', 'active_member']\n",
        "print(\"\\n✅ Model expects these features:\", expected_features)\n"
      ],
      "outputs": [
        {
          "output_type": "stream",
          "name": "stdout",
          "text": "\n✅ Model expects these features: ['credit_score', 'age', 'balance', 'products_number', 'active_member']\n"
        }
      ],
      "execution_count": 124,
      "metadata": {
        "gather": {
          "logged": 1741119034958
        }
      }
    },
    {
      "cell_type": "code",
      "source": [
        "from sklearn.preprocessing import StandardScaler\n",
        "\n",
        "# Initialize scaler\n",
        "scaler = StandardScaler()\n",
        "\n",
        "# Fit the scaler on training data using expected features\n",
        "scaler.fit(X_train[expected_features])  # Ensure X_train is correctly loaded\n"
      ],
      "outputs": [
        {
          "output_type": "execute_result",
          "execution_count": 125,
          "data": {
            "text/plain": "StandardScaler()",
            "text/html": "<style>#sk-container-id-1 {\n  /* Definition of color scheme common for light and dark mode */\n  --sklearn-color-text: black;\n  --sklearn-color-line: gray;\n  /* Definition of color scheme for unfitted estimators */\n  --sklearn-color-unfitted-level-0: #fff5e6;\n  --sklearn-color-unfitted-level-1: #f6e4d2;\n  --sklearn-color-unfitted-level-2: #ffe0b3;\n  --sklearn-color-unfitted-level-3: chocolate;\n  /* Definition of color scheme for fitted estimators */\n  --sklearn-color-fitted-level-0: #f0f8ff;\n  --sklearn-color-fitted-level-1: #d4ebff;\n  --sklearn-color-fitted-level-2: #b3dbfd;\n  --sklearn-color-fitted-level-3: cornflowerblue;\n\n  /* Specific color for light theme */\n  --sklearn-color-text-on-default-background: var(--sg-text-color, var(--theme-code-foreground, var(--jp-content-font-color1, black)));\n  --sklearn-color-background: var(--sg-background-color, var(--theme-background, var(--jp-layout-color0, white)));\n  --sklearn-color-border-box: var(--sg-text-color, var(--theme-code-foreground, var(--jp-content-font-color1, black)));\n  --sklearn-color-icon: #696969;\n\n  @media (prefers-color-scheme: dark) {\n    /* Redefinition of color scheme for dark theme */\n    --sklearn-color-text-on-default-background: var(--sg-text-color, var(--theme-code-foreground, var(--jp-content-font-color1, white)));\n    --sklearn-color-background: var(--sg-background-color, var(--theme-background, var(--jp-layout-color0, #111)));\n    --sklearn-color-border-box: var(--sg-text-color, var(--theme-code-foreground, var(--jp-content-font-color1, white)));\n    --sklearn-color-icon: #878787;\n  }\n}\n\n#sk-container-id-1 {\n  color: var(--sklearn-color-text);\n}\n\n#sk-container-id-1 pre {\n  padding: 0;\n}\n\n#sk-container-id-1 input.sk-hidden--visually {\n  border: 0;\n  clip: rect(1px 1px 1px 1px);\n  clip: rect(1px, 1px, 1px, 1px);\n  height: 1px;\n  margin: -1px;\n  overflow: hidden;\n  padding: 0;\n  position: absolute;\n  width: 1px;\n}\n\n#sk-container-id-1 div.sk-dashed-wrapped {\n  border: 1px dashed var(--sklearn-color-line);\n  margin: 0 0.4em 0.5em 0.4em;\n  box-sizing: border-box;\n  padding-bottom: 0.4em;\n  background-color: var(--sklearn-color-background);\n}\n\n#sk-container-id-1 div.sk-container {\n  /* jupyter's `normalize.less` sets `[hidden] { display: none; }`\n     but bootstrap.min.css set `[hidden] { display: none !important; }`\n     so we also need the `!important` here to be able to override the\n     default hidden behavior on the sphinx rendered scikit-learn.org.\n     See: https://github.com/scikit-learn/scikit-learn/issues/21755 */\n  display: inline-block !important;\n  position: relative;\n}\n\n#sk-container-id-1 div.sk-text-repr-fallback {\n  display: none;\n}\n\ndiv.sk-parallel-item,\ndiv.sk-serial,\ndiv.sk-item {\n  /* draw centered vertical line to link estimators */\n  background-image: linear-gradient(var(--sklearn-color-text-on-default-background), var(--sklearn-color-text-on-default-background));\n  background-size: 2px 100%;\n  background-repeat: no-repeat;\n  background-position: center center;\n}\n\n/* Parallel-specific style estimator block */\n\n#sk-container-id-1 div.sk-parallel-item::after {\n  content: \"\";\n  width: 100%;\n  border-bottom: 2px solid var(--sklearn-color-text-on-default-background);\n  flex-grow: 1;\n}\n\n#sk-container-id-1 div.sk-parallel {\n  display: flex;\n  align-items: stretch;\n  justify-content: center;\n  background-color: var(--sklearn-color-background);\n  position: relative;\n}\n\n#sk-container-id-1 div.sk-parallel-item {\n  display: flex;\n  flex-direction: column;\n}\n\n#sk-container-id-1 div.sk-parallel-item:first-child::after {\n  align-self: flex-end;\n  width: 50%;\n}\n\n#sk-container-id-1 div.sk-parallel-item:last-child::after {\n  align-self: flex-start;\n  width: 50%;\n}\n\n#sk-container-id-1 div.sk-parallel-item:only-child::after {\n  width: 0;\n}\n\n/* Serial-specific style estimator block */\n\n#sk-container-id-1 div.sk-serial {\n  display: flex;\n  flex-direction: column;\n  align-items: center;\n  background-color: var(--sklearn-color-background);\n  padding-right: 1em;\n  padding-left: 1em;\n}\n\n\n/* Toggleable style: style used for estimator/Pipeline/ColumnTransformer box that is\nclickable and can be expanded/collapsed.\n- Pipeline and ColumnTransformer use this feature and define the default style\n- Estimators will overwrite some part of the style using the `sk-estimator` class\n*/\n\n/* Pipeline and ColumnTransformer style (default) */\n\n#sk-container-id-1 div.sk-toggleable {\n  /* Default theme specific background. It is overwritten whether we have a\n  specific estimator or a Pipeline/ColumnTransformer */\n  background-color: var(--sklearn-color-background);\n}\n\n/* Toggleable label */\n#sk-container-id-1 label.sk-toggleable__label {\n  cursor: pointer;\n  display: block;\n  width: 100%;\n  margin-bottom: 0;\n  padding: 0.5em;\n  box-sizing: border-box;\n  text-align: center;\n}\n\n#sk-container-id-1 label.sk-toggleable__label-arrow:before {\n  /* Arrow on the left of the label */\n  content: \"▸\";\n  float: left;\n  margin-right: 0.25em;\n  color: var(--sklearn-color-icon);\n}\n\n#sk-container-id-1 label.sk-toggleable__label-arrow:hover:before {\n  color: var(--sklearn-color-text);\n}\n\n/* Toggleable content - dropdown */\n\n#sk-container-id-1 div.sk-toggleable__content {\n  max-height: 0;\n  max-width: 0;\n  overflow: hidden;\n  text-align: left;\n  /* unfitted */\n  background-color: var(--sklearn-color-unfitted-level-0);\n}\n\n#sk-container-id-1 div.sk-toggleable__content.fitted {\n  /* fitted */\n  background-color: var(--sklearn-color-fitted-level-0);\n}\n\n#sk-container-id-1 div.sk-toggleable__content pre {\n  margin: 0.2em;\n  border-radius: 0.25em;\n  color: var(--sklearn-color-text);\n  /* unfitted */\n  background-color: var(--sklearn-color-unfitted-level-0);\n}\n\n#sk-container-id-1 div.sk-toggleable__content.fitted pre {\n  /* unfitted */\n  background-color: var(--sklearn-color-fitted-level-0);\n}\n\n#sk-container-id-1 input.sk-toggleable__control:checked~div.sk-toggleable__content {\n  /* Expand drop-down */\n  max-height: 200px;\n  max-width: 100%;\n  overflow: auto;\n}\n\n#sk-container-id-1 input.sk-toggleable__control:checked~label.sk-toggleable__label-arrow:before {\n  content: \"▾\";\n}\n\n/* Pipeline/ColumnTransformer-specific style */\n\n#sk-container-id-1 div.sk-label input.sk-toggleable__control:checked~label.sk-toggleable__label {\n  color: var(--sklearn-color-text);\n  background-color: var(--sklearn-color-unfitted-level-2);\n}\n\n#sk-container-id-1 div.sk-label.fitted input.sk-toggleable__control:checked~label.sk-toggleable__label {\n  background-color: var(--sklearn-color-fitted-level-2);\n}\n\n/* Estimator-specific style */\n\n/* Colorize estimator box */\n#sk-container-id-1 div.sk-estimator input.sk-toggleable__control:checked~label.sk-toggleable__label {\n  /* unfitted */\n  background-color: var(--sklearn-color-unfitted-level-2);\n}\n\n#sk-container-id-1 div.sk-estimator.fitted input.sk-toggleable__control:checked~label.sk-toggleable__label {\n  /* fitted */\n  background-color: var(--sklearn-color-fitted-level-2);\n}\n\n#sk-container-id-1 div.sk-label label.sk-toggleable__label,\n#sk-container-id-1 div.sk-label label {\n  /* The background is the default theme color */\n  color: var(--sklearn-color-text-on-default-background);\n}\n\n/* On hover, darken the color of the background */\n#sk-container-id-1 div.sk-label:hover label.sk-toggleable__label {\n  color: var(--sklearn-color-text);\n  background-color: var(--sklearn-color-unfitted-level-2);\n}\n\n/* Label box, darken color on hover, fitted */\n#sk-container-id-1 div.sk-label.fitted:hover label.sk-toggleable__label.fitted {\n  color: var(--sklearn-color-text);\n  background-color: var(--sklearn-color-fitted-level-2);\n}\n\n/* Estimator label */\n\n#sk-container-id-1 div.sk-label label {\n  font-family: monospace;\n  font-weight: bold;\n  display: inline-block;\n  line-height: 1.2em;\n}\n\n#sk-container-id-1 div.sk-label-container {\n  text-align: center;\n}\n\n/* Estimator-specific */\n#sk-container-id-1 div.sk-estimator {\n  font-family: monospace;\n  border: 1px dotted var(--sklearn-color-border-box);\n  border-radius: 0.25em;\n  box-sizing: border-box;\n  margin-bottom: 0.5em;\n  /* unfitted */\n  background-color: var(--sklearn-color-unfitted-level-0);\n}\n\n#sk-container-id-1 div.sk-estimator.fitted {\n  /* fitted */\n  background-color: var(--sklearn-color-fitted-level-0);\n}\n\n/* on hover */\n#sk-container-id-1 div.sk-estimator:hover {\n  /* unfitted */\n  background-color: var(--sklearn-color-unfitted-level-2);\n}\n\n#sk-container-id-1 div.sk-estimator.fitted:hover {\n  /* fitted */\n  background-color: var(--sklearn-color-fitted-level-2);\n}\n\n/* Specification for estimator info (e.g. \"i\" and \"?\") */\n\n/* Common style for \"i\" and \"?\" */\n\n.sk-estimator-doc-link,\na:link.sk-estimator-doc-link,\na:visited.sk-estimator-doc-link {\n  float: right;\n  font-size: smaller;\n  line-height: 1em;\n  font-family: monospace;\n  background-color: var(--sklearn-color-background);\n  border-radius: 1em;\n  height: 1em;\n  width: 1em;\n  text-decoration: none !important;\n  margin-left: 1ex;\n  /* unfitted */\n  border: var(--sklearn-color-unfitted-level-1) 1pt solid;\n  color: var(--sklearn-color-unfitted-level-1);\n}\n\n.sk-estimator-doc-link.fitted,\na:link.sk-estimator-doc-link.fitted,\na:visited.sk-estimator-doc-link.fitted {\n  /* fitted */\n  border: var(--sklearn-color-fitted-level-1) 1pt solid;\n  color: var(--sklearn-color-fitted-level-1);\n}\n\n/* On hover */\ndiv.sk-estimator:hover .sk-estimator-doc-link:hover,\n.sk-estimator-doc-link:hover,\ndiv.sk-label-container:hover .sk-estimator-doc-link:hover,\n.sk-estimator-doc-link:hover {\n  /* unfitted */\n  background-color: var(--sklearn-color-unfitted-level-3);\n  color: var(--sklearn-color-background);\n  text-decoration: none;\n}\n\ndiv.sk-estimator.fitted:hover .sk-estimator-doc-link.fitted:hover,\n.sk-estimator-doc-link.fitted:hover,\ndiv.sk-label-container:hover .sk-estimator-doc-link.fitted:hover,\n.sk-estimator-doc-link.fitted:hover {\n  /* fitted */\n  background-color: var(--sklearn-color-fitted-level-3);\n  color: var(--sklearn-color-background);\n  text-decoration: none;\n}\n\n/* Span, style for the box shown on hovering the info icon */\n.sk-estimator-doc-link span {\n  display: none;\n  z-index: 9999;\n  position: relative;\n  font-weight: normal;\n  right: .2ex;\n  padding: .5ex;\n  margin: .5ex;\n  width: min-content;\n  min-width: 20ex;\n  max-width: 50ex;\n  color: var(--sklearn-color-text);\n  box-shadow: 2pt 2pt 4pt #999;\n  /* unfitted */\n  background: var(--sklearn-color-unfitted-level-0);\n  border: .5pt solid var(--sklearn-color-unfitted-level-3);\n}\n\n.sk-estimator-doc-link.fitted span {\n  /* fitted */\n  background: var(--sklearn-color-fitted-level-0);\n  border: var(--sklearn-color-fitted-level-3);\n}\n\n.sk-estimator-doc-link:hover span {\n  display: block;\n}\n\n/* \"?\"-specific style due to the `<a>` HTML tag */\n\n#sk-container-id-1 a.estimator_doc_link {\n  float: right;\n  font-size: 1rem;\n  line-height: 1em;\n  font-family: monospace;\n  background-color: var(--sklearn-color-background);\n  border-radius: 1rem;\n  height: 1rem;\n  width: 1rem;\n  text-decoration: none;\n  /* unfitted */\n  color: var(--sklearn-color-unfitted-level-1);\n  border: var(--sklearn-color-unfitted-level-1) 1pt solid;\n}\n\n#sk-container-id-1 a.estimator_doc_link.fitted {\n  /* fitted */\n  border: var(--sklearn-color-fitted-level-1) 1pt solid;\n  color: var(--sklearn-color-fitted-level-1);\n}\n\n/* On hover */\n#sk-container-id-1 a.estimator_doc_link:hover {\n  /* unfitted */\n  background-color: var(--sklearn-color-unfitted-level-3);\n  color: var(--sklearn-color-background);\n  text-decoration: none;\n}\n\n#sk-container-id-1 a.estimator_doc_link.fitted:hover {\n  /* fitted */\n  background-color: var(--sklearn-color-fitted-level-3);\n}\n</style><div id=\"sk-container-id-1\" class=\"sk-top-container\"><div class=\"sk-text-repr-fallback\"><pre>StandardScaler()</pre><b>In a Jupyter environment, please rerun this cell to show the HTML representation or trust the notebook. <br />On GitHub, the HTML representation is unable to render, please try loading this page with nbviewer.org.</b></div><div class=\"sk-container\" hidden><div class=\"sk-item\"><div class=\"sk-estimator fitted sk-toggleable\"><input class=\"sk-toggleable__control sk-hidden--visually\" id=\"sk-estimator-id-1\" type=\"checkbox\" checked><label for=\"sk-estimator-id-1\" class=\"sk-toggleable__label fitted sk-toggleable__label-arrow fitted\">&nbsp;&nbsp;StandardScaler<a class=\"sk-estimator-doc-link fitted\" rel=\"noreferrer\" target=\"_blank\" href=\"https://scikit-learn.org/1.5/modules/generated/sklearn.preprocessing.StandardScaler.html\">?<span>Documentation for StandardScaler</span></a><span class=\"sk-estimator-doc-link fitted\">i<span>Fitted</span></span></label><div class=\"sk-toggleable__content fitted\"><pre>StandardScaler()</pre></div> </div></div></div></div>"
          },
          "metadata": {}
        }
      ],
      "execution_count": 125,
      "metadata": {
        "gather": {
          "logged": 1741119101843
        }
      }
    },
    {
      "cell_type": "code",
      "source": [
        "# Select only expected features from customer_data\n",
        "customer_data = customer_data[expected_features]\n",
        "\n",
        "# Scale the test data\n",
        "customer_data_scaled = scaler.transform(customer_data)\n",
        "\n",
        "print(\"\\n✅ Data successfully scaled!\")\n"
      ],
      "outputs": [
        {
          "output_type": "stream",
          "name": "stdout",
          "text": "\n✅ Data successfully scaled!\n"
        }
      ],
      "execution_count": 126,
      "metadata": {
        "gather": {
          "logged": 1741119117698
        }
      }
    },
    {
      "cell_type": "code",
      "source": [
        "# Make predictions\n",
        "predictions = model.predict(customer_data_scaled)\n",
        "\n",
        "print(\"\\n✅ Predictions generated successfully!\")\n"
      ],
      "outputs": [
        {
          "output_type": "stream",
          "name": "stdout",
          "text": "\n✅ Predictions generated successfully!\n"
        }
      ],
      "execution_count": 127,
      "metadata": {
        "gather": {
          "logged": 1741119134179
        }
      }
    },
    {
      "cell_type": "code",
      "source": [
        "import pandas as pd\n",
        "\n",
        "# Create a DataFrame with customer IDs and their predicted churn status\n",
        "results_df = pd.DataFrame({\n",
        "    'Customer ID': customer_data.index,  # Ensure the index represents customer IDs\n",
        "    'Predicted Churn': predictions\n",
        "})\n",
        "\n",
        "# Display the results\n",
        "print(\"\\n✅ Predicted Churn Results:\")\n",
        "print(results_df.head(20))  # Display first 20 rows"
      ],
      "outputs": [
        {
          "output_type": "stream",
          "name": "stdout",
          "text": "\n✅ Predicted Churn Results:\n    Customer ID  Predicted Churn\n0             0                0\n1             1                0\n2             2                0\n3             3                0\n4             4                0\n5             5                1\n6             6                0\n7             7                0\n8             8                0\n9             9                0\n10           10                0\n11           11                0\n12           12                0\n13           13                0\n14           14                0\n15           15                0\n16           16                0\n"
        }
      ],
      "execution_count": 128,
      "metadata": {
        "gather": {
          "logged": 1741119246940
        }
      }
    },
    {
      "cell_type": "code",
      "source": [
        "import pandas as pd\n",
        "\n",
        "# Ensure the customer ID column is included properly\n",
        "results_df = pd.DataFrame({\n",
        "    'Customer ID': customer_data.index if 'customer_id' not in customer_data.columns else customer_data['customer_id'],\n",
        "    'Predicted Churn': predictions\n",
        "})\n",
        "\n",
        "# Display the results properly\n",
        "from IPython.display import display\n",
        "\n",
        "print(\"\\n✅ Predicted Churn Results:\")\n",
        "display(results_df.head(20))  # This will display a formatted table in Jupyter Notebook\n",
        "\n",
        "# Save results if needed\n",
        "results_df.to_csv(\"predicted_churn_results.csv\", index=False)\n"
      ],
      "outputs": [
        {
          "output_type": "stream",
          "name": "stdout",
          "text": "\n✅ Predicted Churn Results:\n"
        },
        {
          "output_type": "display_data",
          "data": {
            "text/plain": "    Customer ID  Predicted Churn\n0             0                0\n1             1                0\n2             2                0\n3             3                0\n4             4                0\n5             5                1\n6             6                0\n7             7                0\n8             8                0\n9             9                0\n10           10                0\n11           11                0\n12           12                0\n13           13                0\n14           14                0\n15           15                0\n16           16                0",
            "text/html": "<div>\n<style scoped>\n    .dataframe tbody tr th:only-of-type {\n        vertical-align: middle;\n    }\n\n    .dataframe tbody tr th {\n        vertical-align: top;\n    }\n\n    .dataframe thead th {\n        text-align: right;\n    }\n</style>\n<table border=\"1\" class=\"dataframe\">\n  <thead>\n    <tr style=\"text-align: right;\">\n      <th></th>\n      <th>Customer ID</th>\n      <th>Predicted Churn</th>\n    </tr>\n  </thead>\n  <tbody>\n    <tr>\n      <th>0</th>\n      <td>0</td>\n      <td>0</td>\n    </tr>\n    <tr>\n      <th>1</th>\n      <td>1</td>\n      <td>0</td>\n    </tr>\n    <tr>\n      <th>2</th>\n      <td>2</td>\n      <td>0</td>\n    </tr>\n    <tr>\n      <th>3</th>\n      <td>3</td>\n      <td>0</td>\n    </tr>\n    <tr>\n      <th>4</th>\n      <td>4</td>\n      <td>0</td>\n    </tr>\n    <tr>\n      <th>5</th>\n      <td>5</td>\n      <td>1</td>\n    </tr>\n    <tr>\n      <th>6</th>\n      <td>6</td>\n      <td>0</td>\n    </tr>\n    <tr>\n      <th>7</th>\n      <td>7</td>\n      <td>0</td>\n    </tr>\n    <tr>\n      <th>8</th>\n      <td>8</td>\n      <td>0</td>\n    </tr>\n    <tr>\n      <th>9</th>\n      <td>9</td>\n      <td>0</td>\n    </tr>\n    <tr>\n      <th>10</th>\n      <td>10</td>\n      <td>0</td>\n    </tr>\n    <tr>\n      <th>11</th>\n      <td>11</td>\n      <td>0</td>\n    </tr>\n    <tr>\n      <th>12</th>\n      <td>12</td>\n      <td>0</td>\n    </tr>\n    <tr>\n      <th>13</th>\n      <td>13</td>\n      <td>0</td>\n    </tr>\n    <tr>\n      <th>14</th>\n      <td>14</td>\n      <td>0</td>\n    </tr>\n    <tr>\n      <th>15</th>\n      <td>15</td>\n      <td>0</td>\n    </tr>\n    <tr>\n      <th>16</th>\n      <td>16</td>\n      <td>0</td>\n    </tr>\n  </tbody>\n</table>\n</div>"
          },
          "metadata": {}
        }
      ],
      "execution_count": 130,
      "metadata": {
        "gather": {
          "logged": 1741119394111
        }
      }
    },
    {
      "cell_type": "code",
      "source": [
        "import pandas as pd\n",
        "\n",
        "# Create DataFrame with correct Customer ID\n",
        "results_df = pd.DataFrame({\n",
        "    'Customer ID': customer_data.index if 'customer_id' not in customer_data.columns else customer_data['customer_id'],\n",
        "    'Predicted Churn': predictions\n",
        "})\n",
        "\n",
        "# Display the results properly\n",
        "print(\"\\n✅ Predicted Churn Results:\")\n",
        "display(results_df.head(20))  # This will show a nicely formatted table in Jupyter Notebook\n",
        "\n",
        "# Save results if needed\n",
        "results_df.to_csv(\"predicted_churn_results.csv\", index=False)\n"
      ],
      "outputs": [
        {
          "output_type": "stream",
          "name": "stdout",
          "text": "\n✅ Predicted Churn Results:\n"
        },
        {
          "output_type": "display_data",
          "data": {
            "text/plain": "    Customer ID  Predicted Churn\n0             0                0\n1             1                0\n2             2                0\n3             3                0\n4             4                0\n5             5                1\n6             6                0\n7             7                0\n8             8                0\n9             9                0\n10           10                0\n11           11                0\n12           12                0\n13           13                0\n14           14                0\n15           15                0\n16           16                0",
            "text/html": "<div>\n<style scoped>\n    .dataframe tbody tr th:only-of-type {\n        vertical-align: middle;\n    }\n\n    .dataframe tbody tr th {\n        vertical-align: top;\n    }\n\n    .dataframe thead th {\n        text-align: right;\n    }\n</style>\n<table border=\"1\" class=\"dataframe\">\n  <thead>\n    <tr style=\"text-align: right;\">\n      <th></th>\n      <th>Customer ID</th>\n      <th>Predicted Churn</th>\n    </tr>\n  </thead>\n  <tbody>\n    <tr>\n      <th>0</th>\n      <td>0</td>\n      <td>0</td>\n    </tr>\n    <tr>\n      <th>1</th>\n      <td>1</td>\n      <td>0</td>\n    </tr>\n    <tr>\n      <th>2</th>\n      <td>2</td>\n      <td>0</td>\n    </tr>\n    <tr>\n      <th>3</th>\n      <td>3</td>\n      <td>0</td>\n    </tr>\n    <tr>\n      <th>4</th>\n      <td>4</td>\n      <td>0</td>\n    </tr>\n    <tr>\n      <th>5</th>\n      <td>5</td>\n      <td>1</td>\n    </tr>\n    <tr>\n      <th>6</th>\n      <td>6</td>\n      <td>0</td>\n    </tr>\n    <tr>\n      <th>7</th>\n      <td>7</td>\n      <td>0</td>\n    </tr>\n    <tr>\n      <th>8</th>\n      <td>8</td>\n      <td>0</td>\n    </tr>\n    <tr>\n      <th>9</th>\n      <td>9</td>\n      <td>0</td>\n    </tr>\n    <tr>\n      <th>10</th>\n      <td>10</td>\n      <td>0</td>\n    </tr>\n    <tr>\n      <th>11</th>\n      <td>11</td>\n      <td>0</td>\n    </tr>\n    <tr>\n      <th>12</th>\n      <td>12</td>\n      <td>0</td>\n    </tr>\n    <tr>\n      <th>13</th>\n      <td>13</td>\n      <td>0</td>\n    </tr>\n    <tr>\n      <th>14</th>\n      <td>14</td>\n      <td>0</td>\n    </tr>\n    <tr>\n      <th>15</th>\n      <td>15</td>\n      <td>0</td>\n    </tr>\n    <tr>\n      <th>16</th>\n      <td>16</td>\n      <td>0</td>\n    </tr>\n  </tbody>\n</table>\n</div>"
          },
          "metadata": {}
        }
      ],
      "execution_count": 131,
      "metadata": {
        "gather": {
          "logged": 1741119477438
        }
      }
    },
    {
      "cell_type": "code",
      "source": [
        "import pandas as pd\n",
        "\n",
        "# Ensure customer_id is correctly extracted\n",
        "if 'customer_id' in customer_data.columns:\n",
        "    customer_ids = customer_data['customer_id'].values  # Get actual Customer IDs\n",
        "else:\n",
        "    customer_ids = customer_data.index  # Use index if column is missing\n",
        "\n",
        "# Create DataFrame with correct Customer ID\n",
        "results_df = pd.DataFrame({\n",
        "    'Customer ID': customer_ids,\n",
        "    'Predicted Churn': predictions\n",
        "})\n",
        "\n",
        "# Display the first 20 rows properly\n",
        "print(\"\\n✅ Predicted Churn Results:\")\n",
        "display(results_df.head(20))  # Shows table in Jupyter Notebook\n",
        "\n",
        "# Save results if needed\n",
        "results_df.to_csv(\"predicted_churn_results.csv\", index=False)\n"
      ],
      "outputs": [
        {
          "output_type": "stream",
          "name": "stdout",
          "text": "\n✅ Predicted Churn Results:\n"
        },
        {
          "output_type": "display_data",
          "data": {
            "text/plain": "    Customer ID  Predicted Churn\n0             0                0\n1             1                0\n2             2                0\n3             3                0\n4             4                0\n5             5                1\n6             6                0\n7             7                0\n8             8                0\n9             9                0\n10           10                0\n11           11                0\n12           12                0\n13           13                0\n14           14                0\n15           15                0\n16           16                0",
            "text/html": "<div>\n<style scoped>\n    .dataframe tbody tr th:only-of-type {\n        vertical-align: middle;\n    }\n\n    .dataframe tbody tr th {\n        vertical-align: top;\n    }\n\n    .dataframe thead th {\n        text-align: right;\n    }\n</style>\n<table border=\"1\" class=\"dataframe\">\n  <thead>\n    <tr style=\"text-align: right;\">\n      <th></th>\n      <th>Customer ID</th>\n      <th>Predicted Churn</th>\n    </tr>\n  </thead>\n  <tbody>\n    <tr>\n      <th>0</th>\n      <td>0</td>\n      <td>0</td>\n    </tr>\n    <tr>\n      <th>1</th>\n      <td>1</td>\n      <td>0</td>\n    </tr>\n    <tr>\n      <th>2</th>\n      <td>2</td>\n      <td>0</td>\n    </tr>\n    <tr>\n      <th>3</th>\n      <td>3</td>\n      <td>0</td>\n    </tr>\n    <tr>\n      <th>4</th>\n      <td>4</td>\n      <td>0</td>\n    </tr>\n    <tr>\n      <th>5</th>\n      <td>5</td>\n      <td>1</td>\n    </tr>\n    <tr>\n      <th>6</th>\n      <td>6</td>\n      <td>0</td>\n    </tr>\n    <tr>\n      <th>7</th>\n      <td>7</td>\n      <td>0</td>\n    </tr>\n    <tr>\n      <th>8</th>\n      <td>8</td>\n      <td>0</td>\n    </tr>\n    <tr>\n      <th>9</th>\n      <td>9</td>\n      <td>0</td>\n    </tr>\n    <tr>\n      <th>10</th>\n      <td>10</td>\n      <td>0</td>\n    </tr>\n    <tr>\n      <th>11</th>\n      <td>11</td>\n      <td>0</td>\n    </tr>\n    <tr>\n      <th>12</th>\n      <td>12</td>\n      <td>0</td>\n    </tr>\n    <tr>\n      <th>13</th>\n      <td>13</td>\n      <td>0</td>\n    </tr>\n    <tr>\n      <th>14</th>\n      <td>14</td>\n      <td>0</td>\n    </tr>\n    <tr>\n      <th>15</th>\n      <td>15</td>\n      <td>0</td>\n    </tr>\n    <tr>\n      <th>16</th>\n      <td>16</td>\n      <td>0</td>\n    </tr>\n  </tbody>\n</table>\n</div>"
          },
          "metadata": {}
        }
      ],
      "execution_count": 132,
      "metadata": {
        "gather": {
          "logged": 1741119525010
        }
      }
    },
    {
      "cell_type": "code",
      "source": [
        "print(customer_data.head())\n"
      ],
      "outputs": [
        {
          "output_type": "stream",
          "name": "stdout",
          "text": "   credit_score   age    balance  products_number  active_member\n0         751.0  36.0  169831.46              2.0            1.0\n1         581.0  34.0  101633.04              1.0            0.0\n2         735.0  43.0  123180.01              2.0            1.0\n3         661.0  35.0  150725.53              2.0            1.0\n4         675.0  21.0   98373.26              1.0            0.0\n"
        }
      ],
      "execution_count": 133,
      "metadata": {
        "gather": {
          "logged": 1741119547666
        }
      }
    },
    {
      "cell_type": "code",
      "source": [
        "import pandas as pd\n",
        "\n",
        "# Ensure predictions align correctly\n",
        "results_df = pd.DataFrame({\n",
        "    'Credit Score': customer_data['credit_score'],  # Use Credit Score as reference\n",
        "    'Age': customer_data['age'],  # Use Age as reference\n",
        "    'Predicted Churn': predictions\n",
        "})\n",
        "\n",
        "# Display the first 20 rows properly\n",
        "print(\"\\n✅ Predicted Churn Results:\")\n",
        "display(results_df.head(20))  # Shows formatted table in Jupyter Notebook\n",
        "\n",
        "# Save results if needed\n",
        "results_df.to_csv(\"predicted_churn_results.csv\", index=False)\n"
      ],
      "outputs": [
        {
          "output_type": "stream",
          "name": "stdout",
          "text": "\n✅ Predicted Churn Results:\n"
        },
        {
          "output_type": "display_data",
          "data": {
            "text/plain": "    Credit Score   Age  Predicted Churn\n0          751.0  36.0                0\n1          581.0  34.0                0\n2          735.0  43.0                0\n3          661.0  35.0                0\n4          675.0  21.0                0\n5          738.0  58.0                1\n6          813.0  29.0                0\n7          657.0  37.0                0\n8          604.0  25.0                0\n9          519.0  36.0                0\n10         735.0  21.0                0\n11         664.0  55.0                0\n12         678.0  32.0                0\n13         757.0  33.0                0\n14         416.0  41.0                0\n15         665.0  34.0                0\n16         777.0  32.0                0",
            "text/html": "<div>\n<style scoped>\n    .dataframe tbody tr th:only-of-type {\n        vertical-align: middle;\n    }\n\n    .dataframe tbody tr th {\n        vertical-align: top;\n    }\n\n    .dataframe thead th {\n        text-align: right;\n    }\n</style>\n<table border=\"1\" class=\"dataframe\">\n  <thead>\n    <tr style=\"text-align: right;\">\n      <th></th>\n      <th>Credit Score</th>\n      <th>Age</th>\n      <th>Predicted Churn</th>\n    </tr>\n  </thead>\n  <tbody>\n    <tr>\n      <th>0</th>\n      <td>751.0</td>\n      <td>36.0</td>\n      <td>0</td>\n    </tr>\n    <tr>\n      <th>1</th>\n      <td>581.0</td>\n      <td>34.0</td>\n      <td>0</td>\n    </tr>\n    <tr>\n      <th>2</th>\n      <td>735.0</td>\n      <td>43.0</td>\n      <td>0</td>\n    </tr>\n    <tr>\n      <th>3</th>\n      <td>661.0</td>\n      <td>35.0</td>\n      <td>0</td>\n    </tr>\n    <tr>\n      <th>4</th>\n      <td>675.0</td>\n      <td>21.0</td>\n      <td>0</td>\n    </tr>\n    <tr>\n      <th>5</th>\n      <td>738.0</td>\n      <td>58.0</td>\n      <td>1</td>\n    </tr>\n    <tr>\n      <th>6</th>\n      <td>813.0</td>\n      <td>29.0</td>\n      <td>0</td>\n    </tr>\n    <tr>\n      <th>7</th>\n      <td>657.0</td>\n      <td>37.0</td>\n      <td>0</td>\n    </tr>\n    <tr>\n      <th>8</th>\n      <td>604.0</td>\n      <td>25.0</td>\n      <td>0</td>\n    </tr>\n    <tr>\n      <th>9</th>\n      <td>519.0</td>\n      <td>36.0</td>\n      <td>0</td>\n    </tr>\n    <tr>\n      <th>10</th>\n      <td>735.0</td>\n      <td>21.0</td>\n      <td>0</td>\n    </tr>\n    <tr>\n      <th>11</th>\n      <td>664.0</td>\n      <td>55.0</td>\n      <td>0</td>\n    </tr>\n    <tr>\n      <th>12</th>\n      <td>678.0</td>\n      <td>32.0</td>\n      <td>0</td>\n    </tr>\n    <tr>\n      <th>13</th>\n      <td>757.0</td>\n      <td>33.0</td>\n      <td>0</td>\n    </tr>\n    <tr>\n      <th>14</th>\n      <td>416.0</td>\n      <td>41.0</td>\n      <td>0</td>\n    </tr>\n    <tr>\n      <th>15</th>\n      <td>665.0</td>\n      <td>34.0</td>\n      <td>0</td>\n    </tr>\n    <tr>\n      <th>16</th>\n      <td>777.0</td>\n      <td>32.0</td>\n      <td>0</td>\n    </tr>\n  </tbody>\n</table>\n</div>"
          },
          "metadata": {}
        }
      ],
      "execution_count": 136,
      "metadata": {
        "gather": {
          "logged": 1741119727356
        }
      }
    },
    {
      "cell_type": "code",
      "source": [
        "from sklearn.ensemble import RandomForestClassifier, GradientBoostingClassifier\n",
        "from sklearn.tree import DecisionTreeClassifier\n",
        "from sklearn.metrics import accuracy_score, classification_report"
      ],
      "outputs": [],
      "execution_count": 1,
      "metadata": {
        "gather": {
          "logged": 1741269155610
        }
      }
    },
    {
      "cell_type": "code",
      "source": [
        "# Initialize models\n",
        "dt_model = DecisionTreeClassifier(random_state=42)\n",
        "rf_model = RandomForestClassifier(n_estimators=100, random_state=42)\n",
        "gb_model = GradientBoostingClassifier(n_estimators=100, random_state=42)"
      ],
      "outputs": [],
      "execution_count": 2,
      "metadata": {
        "gather": {
          "logged": 1741269172132
        }
      }
    },
    {
      "cell_type": "code",
      "source": [
        "import os\n",
        "print(os.listdir())\n"
      ],
      "outputs": [
        {
          "output_type": "stream",
          "name": "stdout",
          "text": "['.amlignore', '.amlignore.amltmp', '.ipynb_aml_checkpoints', 'Banking Customer Churn Prediction.ipynb', 'banking customer churn prediction.ipynb.amltmp', 'banking_churn_model.pkl', 'predicted_churn_results.csv', 'scaler.pkl']\n"
        }
      ],
      "execution_count": 7,
      "metadata": {
        "gather": {
          "logged": 1741269582392
        }
      }
    },
    {
      "cell_type": "code",
      "source": [
        "# Import necessary libraries\n",
        "import pandas as pd\n",
        "from azureml.core import Workspace, Dataset\n",
        "from sklearn.model_selection import train_test_split\n",
        "from sklearn.preprocessing import StandardScaler\n",
        "from sklearn.linear_model import LogisticRegression\n",
        "from sklearn.ensemble import RandomForestClassifier, GradientBoostingClassifier\n",
        "from sklearn.tree import DecisionTreeClassifier\n",
        "from sklearn.metrics import accuracy_score, classification_report"
      ],
      "outputs": [],
      "execution_count": 9,
      "metadata": {
        "gather": {
          "logged": 1741269948703
        }
      }
    },
    {
      "cell_type": "code",
      "source": [
        "# Connect to Azure ML workspace and load dataset\n",
        "subscription_id = '38affca2-1d7c-4fe3-ab6a-f9c34feead0e'\n",
        "resource_group = 'aifinalproject'\n",
        "workspace_name = 'CustomerChurnModel'\n",
        "\n",
        "workspace = Workspace(subscription_id, resource_group, workspace_name)\n",
        "dataset = Dataset.get_by_name(workspace, name='Banking_Customer')\n",
        "customer_data = dataset.to_pandas_dataframe()"
      ],
      "outputs": [
        {
          "output_type": "stream",
          "name": "stdout",
          "text": "{'infer_column_types': 'False', 'activity': 'to_pandas_dataframe'}\n{'infer_column_types': 'False', 'activity': 'to_pandas_dataframe', 'activityApp': 'TabularDataset'}\n"
        }
      ],
      "execution_count": 10,
      "metadata": {
        "gather": {
          "logged": 1741269970720
        }
      }
    },
    {
      "cell_type": "code",
      "source": [
        "# Define features (X) and target variable (y)\n",
        "X = customer_data.drop(columns=['churn', 'customer_id'])  # Remove churn & ID columns\n",
        "y = customer_data['churn']"
      ],
      "outputs": [],
      "execution_count": 11,
      "metadata": {
        "gather": {
          "logged": 1741269993009
        }
      }
    },
    {
      "cell_type": "code",
      "source": [
        "# Convert categorical variables into numerical\n",
        "X = pd.get_dummies(X, drop_first=True) "
      ],
      "outputs": [],
      "execution_count": 12,
      "metadata": {
        "gather": {
          "logged": 1741270004882
        }
      }
    },
    {
      "cell_type": "code",
      "source": [
        "# Split dataset into training and testing sets\n",
        "X_train, X_test, y_train, y_test = train_test_split(X, y, test_size=0.2, random_state=42)"
      ],
      "outputs": [],
      "execution_count": 13,
      "metadata": {
        "gather": {
          "logged": 1741270018551
        }
      }
    },
    {
      "cell_type": "code",
      "source": [
        "# Scale numerical features for better model performance\n",
        "scaler = StandardScaler()\n",
        "X_train_scaled = scaler.fit_transform(X_train)\n",
        "X_test_scaled = scaler.transform(X_test)"
      ],
      "outputs": [],
      "execution_count": 14,
      "metadata": {
        "gather": {
          "logged": 1741270033977
        }
      }
    },
    {
      "cell_type": "code",
      "source": [
        "# Initialize models\n",
        "log_reg = LogisticRegression(max_iter=200)\n",
        "dt_model = DecisionTreeClassifier(random_state=42)\n",
        "rf_model = RandomForestClassifier(n_estimators=100, random_state=42)\n",
        "gb_model = GradientBoostingClassifier(n_estimators=100, learning_rate=0.1, random_state=42)"
      ],
      "outputs": [],
      "execution_count": 15,
      "metadata": {
        "gather": {
          "logged": 1741270046503
        }
      }
    },
    {
      "cell_type": "code",
      "source": [
        "# Train models\n",
        "log_reg.fit(X_train_scaled, y_train)\n",
        "dt_model.fit(X_train_scaled, y_train)\n",
        "rf_model.fit(X_train_scaled, y_train)\n",
        "gb_model.fit(X_train_scaled, y_train)"
      ],
      "outputs": [
        {
          "output_type": "execute_result",
          "execution_count": 16,
          "data": {
            "text/plain": "GradientBoostingClassifier(random_state=42)",
            "text/html": "<style>#sk-container-id-1 {\n  /* Definition of color scheme common for light and dark mode */\n  --sklearn-color-text: black;\n  --sklearn-color-line: gray;\n  /* Definition of color scheme for unfitted estimators */\n  --sklearn-color-unfitted-level-0: #fff5e6;\n  --sklearn-color-unfitted-level-1: #f6e4d2;\n  --sklearn-color-unfitted-level-2: #ffe0b3;\n  --sklearn-color-unfitted-level-3: chocolate;\n  /* Definition of color scheme for fitted estimators */\n  --sklearn-color-fitted-level-0: #f0f8ff;\n  --sklearn-color-fitted-level-1: #d4ebff;\n  --sklearn-color-fitted-level-2: #b3dbfd;\n  --sklearn-color-fitted-level-3: cornflowerblue;\n\n  /* Specific color for light theme */\n  --sklearn-color-text-on-default-background: var(--sg-text-color, var(--theme-code-foreground, var(--jp-content-font-color1, black)));\n  --sklearn-color-background: var(--sg-background-color, var(--theme-background, var(--jp-layout-color0, white)));\n  --sklearn-color-border-box: var(--sg-text-color, var(--theme-code-foreground, var(--jp-content-font-color1, black)));\n  --sklearn-color-icon: #696969;\n\n  @media (prefers-color-scheme: dark) {\n    /* Redefinition of color scheme for dark theme */\n    --sklearn-color-text-on-default-background: var(--sg-text-color, var(--theme-code-foreground, var(--jp-content-font-color1, white)));\n    --sklearn-color-background: var(--sg-background-color, var(--theme-background, var(--jp-layout-color0, #111)));\n    --sklearn-color-border-box: var(--sg-text-color, var(--theme-code-foreground, var(--jp-content-font-color1, white)));\n    --sklearn-color-icon: #878787;\n  }\n}\n\n#sk-container-id-1 {\n  color: var(--sklearn-color-text);\n}\n\n#sk-container-id-1 pre {\n  padding: 0;\n}\n\n#sk-container-id-1 input.sk-hidden--visually {\n  border: 0;\n  clip: rect(1px 1px 1px 1px);\n  clip: rect(1px, 1px, 1px, 1px);\n  height: 1px;\n  margin: -1px;\n  overflow: hidden;\n  padding: 0;\n  position: absolute;\n  width: 1px;\n}\n\n#sk-container-id-1 div.sk-dashed-wrapped {\n  border: 1px dashed var(--sklearn-color-line);\n  margin: 0 0.4em 0.5em 0.4em;\n  box-sizing: border-box;\n  padding-bottom: 0.4em;\n  background-color: var(--sklearn-color-background);\n}\n\n#sk-container-id-1 div.sk-container {\n  /* jupyter's `normalize.less` sets `[hidden] { display: none; }`\n     but bootstrap.min.css set `[hidden] { display: none !important; }`\n     so we also need the `!important` here to be able to override the\n     default hidden behavior on the sphinx rendered scikit-learn.org.\n     See: https://github.com/scikit-learn/scikit-learn/issues/21755 */\n  display: inline-block !important;\n  position: relative;\n}\n\n#sk-container-id-1 div.sk-text-repr-fallback {\n  display: none;\n}\n\ndiv.sk-parallel-item,\ndiv.sk-serial,\ndiv.sk-item {\n  /* draw centered vertical line to link estimators */\n  background-image: linear-gradient(var(--sklearn-color-text-on-default-background), var(--sklearn-color-text-on-default-background));\n  background-size: 2px 100%;\n  background-repeat: no-repeat;\n  background-position: center center;\n}\n\n/* Parallel-specific style estimator block */\n\n#sk-container-id-1 div.sk-parallel-item::after {\n  content: \"\";\n  width: 100%;\n  border-bottom: 2px solid var(--sklearn-color-text-on-default-background);\n  flex-grow: 1;\n}\n\n#sk-container-id-1 div.sk-parallel {\n  display: flex;\n  align-items: stretch;\n  justify-content: center;\n  background-color: var(--sklearn-color-background);\n  position: relative;\n}\n\n#sk-container-id-1 div.sk-parallel-item {\n  display: flex;\n  flex-direction: column;\n}\n\n#sk-container-id-1 div.sk-parallel-item:first-child::after {\n  align-self: flex-end;\n  width: 50%;\n}\n\n#sk-container-id-1 div.sk-parallel-item:last-child::after {\n  align-self: flex-start;\n  width: 50%;\n}\n\n#sk-container-id-1 div.sk-parallel-item:only-child::after {\n  width: 0;\n}\n\n/* Serial-specific style estimator block */\n\n#sk-container-id-1 div.sk-serial {\n  display: flex;\n  flex-direction: column;\n  align-items: center;\n  background-color: var(--sklearn-color-background);\n  padding-right: 1em;\n  padding-left: 1em;\n}\n\n\n/* Toggleable style: style used for estimator/Pipeline/ColumnTransformer box that is\nclickable and can be expanded/collapsed.\n- Pipeline and ColumnTransformer use this feature and define the default style\n- Estimators will overwrite some part of the style using the `sk-estimator` class\n*/\n\n/* Pipeline and ColumnTransformer style (default) */\n\n#sk-container-id-1 div.sk-toggleable {\n  /* Default theme specific background. It is overwritten whether we have a\n  specific estimator or a Pipeline/ColumnTransformer */\n  background-color: var(--sklearn-color-background);\n}\n\n/* Toggleable label */\n#sk-container-id-1 label.sk-toggleable__label {\n  cursor: pointer;\n  display: block;\n  width: 100%;\n  margin-bottom: 0;\n  padding: 0.5em;\n  box-sizing: border-box;\n  text-align: center;\n}\n\n#sk-container-id-1 label.sk-toggleable__label-arrow:before {\n  /* Arrow on the left of the label */\n  content: \"▸\";\n  float: left;\n  margin-right: 0.25em;\n  color: var(--sklearn-color-icon);\n}\n\n#sk-container-id-1 label.sk-toggleable__label-arrow:hover:before {\n  color: var(--sklearn-color-text);\n}\n\n/* Toggleable content - dropdown */\n\n#sk-container-id-1 div.sk-toggleable__content {\n  max-height: 0;\n  max-width: 0;\n  overflow: hidden;\n  text-align: left;\n  /* unfitted */\n  background-color: var(--sklearn-color-unfitted-level-0);\n}\n\n#sk-container-id-1 div.sk-toggleable__content.fitted {\n  /* fitted */\n  background-color: var(--sklearn-color-fitted-level-0);\n}\n\n#sk-container-id-1 div.sk-toggleable__content pre {\n  margin: 0.2em;\n  border-radius: 0.25em;\n  color: var(--sklearn-color-text);\n  /* unfitted */\n  background-color: var(--sklearn-color-unfitted-level-0);\n}\n\n#sk-container-id-1 div.sk-toggleable__content.fitted pre {\n  /* unfitted */\n  background-color: var(--sklearn-color-fitted-level-0);\n}\n\n#sk-container-id-1 input.sk-toggleable__control:checked~div.sk-toggleable__content {\n  /* Expand drop-down */\n  max-height: 200px;\n  max-width: 100%;\n  overflow: auto;\n}\n\n#sk-container-id-1 input.sk-toggleable__control:checked~label.sk-toggleable__label-arrow:before {\n  content: \"▾\";\n}\n\n/* Pipeline/ColumnTransformer-specific style */\n\n#sk-container-id-1 div.sk-label input.sk-toggleable__control:checked~label.sk-toggleable__label {\n  color: var(--sklearn-color-text);\n  background-color: var(--sklearn-color-unfitted-level-2);\n}\n\n#sk-container-id-1 div.sk-label.fitted input.sk-toggleable__control:checked~label.sk-toggleable__label {\n  background-color: var(--sklearn-color-fitted-level-2);\n}\n\n/* Estimator-specific style */\n\n/* Colorize estimator box */\n#sk-container-id-1 div.sk-estimator input.sk-toggleable__control:checked~label.sk-toggleable__label {\n  /* unfitted */\n  background-color: var(--sklearn-color-unfitted-level-2);\n}\n\n#sk-container-id-1 div.sk-estimator.fitted input.sk-toggleable__control:checked~label.sk-toggleable__label {\n  /* fitted */\n  background-color: var(--sklearn-color-fitted-level-2);\n}\n\n#sk-container-id-1 div.sk-label label.sk-toggleable__label,\n#sk-container-id-1 div.sk-label label {\n  /* The background is the default theme color */\n  color: var(--sklearn-color-text-on-default-background);\n}\n\n/* On hover, darken the color of the background */\n#sk-container-id-1 div.sk-label:hover label.sk-toggleable__label {\n  color: var(--sklearn-color-text);\n  background-color: var(--sklearn-color-unfitted-level-2);\n}\n\n/* Label box, darken color on hover, fitted */\n#sk-container-id-1 div.sk-label.fitted:hover label.sk-toggleable__label.fitted {\n  color: var(--sklearn-color-text);\n  background-color: var(--sklearn-color-fitted-level-2);\n}\n\n/* Estimator label */\n\n#sk-container-id-1 div.sk-label label {\n  font-family: monospace;\n  font-weight: bold;\n  display: inline-block;\n  line-height: 1.2em;\n}\n\n#sk-container-id-1 div.sk-label-container {\n  text-align: center;\n}\n\n/* Estimator-specific */\n#sk-container-id-1 div.sk-estimator {\n  font-family: monospace;\n  border: 1px dotted var(--sklearn-color-border-box);\n  border-radius: 0.25em;\n  box-sizing: border-box;\n  margin-bottom: 0.5em;\n  /* unfitted */\n  background-color: var(--sklearn-color-unfitted-level-0);\n}\n\n#sk-container-id-1 div.sk-estimator.fitted {\n  /* fitted */\n  background-color: var(--sklearn-color-fitted-level-0);\n}\n\n/* on hover */\n#sk-container-id-1 div.sk-estimator:hover {\n  /* unfitted */\n  background-color: var(--sklearn-color-unfitted-level-2);\n}\n\n#sk-container-id-1 div.sk-estimator.fitted:hover {\n  /* fitted */\n  background-color: var(--sklearn-color-fitted-level-2);\n}\n\n/* Specification for estimator info (e.g. \"i\" and \"?\") */\n\n/* Common style for \"i\" and \"?\" */\n\n.sk-estimator-doc-link,\na:link.sk-estimator-doc-link,\na:visited.sk-estimator-doc-link {\n  float: right;\n  font-size: smaller;\n  line-height: 1em;\n  font-family: monospace;\n  background-color: var(--sklearn-color-background);\n  border-radius: 1em;\n  height: 1em;\n  width: 1em;\n  text-decoration: none !important;\n  margin-left: 1ex;\n  /* unfitted */\n  border: var(--sklearn-color-unfitted-level-1) 1pt solid;\n  color: var(--sklearn-color-unfitted-level-1);\n}\n\n.sk-estimator-doc-link.fitted,\na:link.sk-estimator-doc-link.fitted,\na:visited.sk-estimator-doc-link.fitted {\n  /* fitted */\n  border: var(--sklearn-color-fitted-level-1) 1pt solid;\n  color: var(--sklearn-color-fitted-level-1);\n}\n\n/* On hover */\ndiv.sk-estimator:hover .sk-estimator-doc-link:hover,\n.sk-estimator-doc-link:hover,\ndiv.sk-label-container:hover .sk-estimator-doc-link:hover,\n.sk-estimator-doc-link:hover {\n  /* unfitted */\n  background-color: var(--sklearn-color-unfitted-level-3);\n  color: var(--sklearn-color-background);\n  text-decoration: none;\n}\n\ndiv.sk-estimator.fitted:hover .sk-estimator-doc-link.fitted:hover,\n.sk-estimator-doc-link.fitted:hover,\ndiv.sk-label-container:hover .sk-estimator-doc-link.fitted:hover,\n.sk-estimator-doc-link.fitted:hover {\n  /* fitted */\n  background-color: var(--sklearn-color-fitted-level-3);\n  color: var(--sklearn-color-background);\n  text-decoration: none;\n}\n\n/* Span, style for the box shown on hovering the info icon */\n.sk-estimator-doc-link span {\n  display: none;\n  z-index: 9999;\n  position: relative;\n  font-weight: normal;\n  right: .2ex;\n  padding: .5ex;\n  margin: .5ex;\n  width: min-content;\n  min-width: 20ex;\n  max-width: 50ex;\n  color: var(--sklearn-color-text);\n  box-shadow: 2pt 2pt 4pt #999;\n  /* unfitted */\n  background: var(--sklearn-color-unfitted-level-0);\n  border: .5pt solid var(--sklearn-color-unfitted-level-3);\n}\n\n.sk-estimator-doc-link.fitted span {\n  /* fitted */\n  background: var(--sklearn-color-fitted-level-0);\n  border: var(--sklearn-color-fitted-level-3);\n}\n\n.sk-estimator-doc-link:hover span {\n  display: block;\n}\n\n/* \"?\"-specific style due to the `<a>` HTML tag */\n\n#sk-container-id-1 a.estimator_doc_link {\n  float: right;\n  font-size: 1rem;\n  line-height: 1em;\n  font-family: monospace;\n  background-color: var(--sklearn-color-background);\n  border-radius: 1rem;\n  height: 1rem;\n  width: 1rem;\n  text-decoration: none;\n  /* unfitted */\n  color: var(--sklearn-color-unfitted-level-1);\n  border: var(--sklearn-color-unfitted-level-1) 1pt solid;\n}\n\n#sk-container-id-1 a.estimator_doc_link.fitted {\n  /* fitted */\n  border: var(--sklearn-color-fitted-level-1) 1pt solid;\n  color: var(--sklearn-color-fitted-level-1);\n}\n\n/* On hover */\n#sk-container-id-1 a.estimator_doc_link:hover {\n  /* unfitted */\n  background-color: var(--sklearn-color-unfitted-level-3);\n  color: var(--sklearn-color-background);\n  text-decoration: none;\n}\n\n#sk-container-id-1 a.estimator_doc_link.fitted:hover {\n  /* fitted */\n  background-color: var(--sklearn-color-fitted-level-3);\n}\n</style><div id=\"sk-container-id-1\" class=\"sk-top-container\"><div class=\"sk-text-repr-fallback\"><pre>GradientBoostingClassifier(random_state=42)</pre><b>In a Jupyter environment, please rerun this cell to show the HTML representation or trust the notebook. <br />On GitHub, the HTML representation is unable to render, please try loading this page with nbviewer.org.</b></div><div class=\"sk-container\" hidden><div class=\"sk-item\"><div class=\"sk-estimator fitted sk-toggleable\"><input class=\"sk-toggleable__control sk-hidden--visually\" id=\"sk-estimator-id-1\" type=\"checkbox\" checked><label for=\"sk-estimator-id-1\" class=\"sk-toggleable__label fitted sk-toggleable__label-arrow fitted\">&nbsp;&nbsp;GradientBoostingClassifier<a class=\"sk-estimator-doc-link fitted\" rel=\"noreferrer\" target=\"_blank\" href=\"https://scikit-learn.org/1.5/modules/generated/sklearn.ensemble.GradientBoostingClassifier.html\">?<span>Documentation for GradientBoostingClassifier</span></a><span class=\"sk-estimator-doc-link fitted\">i<span>Fitted</span></span></label><div class=\"sk-toggleable__content fitted\"><pre>GradientBoostingClassifier(random_state=42)</pre></div> </div></div></div></div>"
          },
          "metadata": {}
        }
      ],
      "execution_count": 16,
      "metadata": {
        "gather": {
          "logged": 1741270061311
        }
      }
    },
    {
      "cell_type": "code",
      "source": [
        "from sklearn.metrics import accuracy_score, classification_report\n",
        "\n",
        "# Make predictions\n",
        "y_pred_log = log_reg.predict(X_test_scaled)\n",
        "y_pred_dt = dt_model.predict(X_test_scaled)\n",
        "y_pred_rf = rf_model.predict(X_test_scaled)\n",
        "y_pred_gb = gb_model.predict(X_test_scaled)"
      ],
      "outputs": [],
      "execution_count": 17,
      "metadata": {
        "gather": {
          "logged": 1741270166904
        }
      }
    },
    {
      "cell_type": "code",
      "source": [
        "# Print accuracy scores\n",
        "print(\"Logistic Regression Accuracy:\", accuracy_score(y_test, y_pred_log))\n",
        "print(\"Decision Tree Accuracy:\", accuracy_score(y_test, y_pred_dt))\n",
        "print(\"Random Forest Accuracy:\", accuracy_score(y_test, y_pred_rf))\n",
        "print(\"Gradient Boosting Accuracy:\", accuracy_score(y_test, y_pred_gb))\n",
        "\n",
        "# Print classification reports\n",
        "print(\"\\nLogistic Regression Report:\\n\", classification_report(y_test, y_pred_log))\n",
        "print(\"\\nDecision Tree Report:\\n\", classification_report(y_test, y_pred_dt))\n",
        "print(\"\\nRandom Forest Report:\\n\", classification_report(y_test, y_pred_rf))\n",
        "print(\"\\nGradient Boosting Report:\\n\", classification_report(y_test, y_pred_gb))"
      ],
      "outputs": [
        {
          "output_type": "stream",
          "name": "stdout",
          "text": "Logistic Regression Accuracy: 0.811\nDecision Tree Accuracy: 0.781\nRandom Forest Accuracy: 0.8665\nGradient Boosting Accuracy: 0.8675\n\nLogistic Regression Report:\n               precision    recall  f1-score   support\n\n           0       0.83      0.96      0.89      1607\n           1       0.55      0.20      0.29       393\n\n    accuracy                           0.81      2000\n   macro avg       0.69      0.58      0.59      2000\nweighted avg       0.78      0.81      0.77      2000\n\n\nDecision Tree Report:\n               precision    recall  f1-score   support\n\n           0       0.87      0.85      0.86      1607\n           1       0.45      0.50      0.47       393\n\n    accuracy                           0.78      2000\n   macro avg       0.66      0.68      0.67      2000\nweighted avg       0.79      0.78      0.79      2000\n\n\nRandom Forest Report:\n               precision    recall  f1-score   support\n\n           0       0.88      0.96      0.92      1607\n           1       0.76      0.47      0.58       393\n\n    accuracy                           0.87      2000\n   macro avg       0.82      0.72      0.75      2000\nweighted avg       0.86      0.87      0.85      2000\n\n\nGradient Boosting Report:\n               precision    recall  f1-score   support\n\n           0       0.88      0.96      0.92      1607\n           1       0.75      0.49      0.59       393\n\n    accuracy                           0.87      2000\n   macro avg       0.82      0.72      0.76      2000\nweighted avg       0.86      0.87      0.86      2000\n\n"
        }
      ],
      "execution_count": 18,
      "metadata": {
        "gather": {
          "logged": 1741270184218
        }
      }
    },
    {
      "cell_type": "code",
      "source": [
        "import matplotlib.pyplot as plt\n",
        "import numpy as np\n",
        "\n",
        "# Store model names and accuracy scores\n",
        "models = ['Logistic Regression', 'Decision Tree', 'Random Forest', 'Gradient Boosting']\n",
        "accuracies = [\n",
        "    accuracy_score(y_test, y_pred_log),\n",
        "    accuracy_score(y_test, y_pred_dt),\n",
        "    accuracy_score(y_test, y_pred_rf),\n",
        "    accuracy_score(y_test, y_pred_gb)\n",
        "]\n",
        "\n",
        "# Plot the accuracies\n",
        "plt.figure(figsize=(8, 5))\n",
        "plt.bar(models, accuracies, color=['blue', 'green', 'orange', 'red'])\n",
        "plt.xlabel(\"Models\")\n",
        "plt.ylabel(\"Accuracy Score\")\n",
        "plt.title(\"Model Accuracy Comparison\")\n",
        "plt.ylim(0, 1)  # Accuracy ranges from 0 to 1\n",
        "plt.show()\n"
      ],
      "outputs": [
        {
          "output_type": "display_data",
          "data": {
            "text/plain": "<Figure size 800x500 with 1 Axes>",
            "image/png": "[encoded data removed]"
          },
          "metadata": {}
        }
      ],
      "execution_count": 19,
      "metadata": {
        "gather": {
          "logged": 1741270505058
        }
      }
    },
    {
      "cell_type": "code",
      "source": [
        "from sklearn.metrics import precision_score, recall_score, f1_score\n",
        "\n",
        "# Store precision, recall, and F1 scores\n",
        "metrics = ['Precision', 'Recall', 'F1 Score']\n",
        "log_scores = [precision_score(y_test, y_pred_log), recall_score(y_test, y_pred_log), f1_score(y_test, y_pred_log)]\n",
        "dt_scores = [precision_score(y_test, y_pred_dt), recall_score(y_test, y_pred_dt), f1_score(y_test, y_pred_dt)]\n",
        "rf_scores = [precision_score(y_test, y_pred_rf), recall_score(y_test, y_pred_rf), f1_score(y_test, y_pred_rf)]\n",
        "gb_scores = [precision_score(y_test, y_pred_gb), recall_score(y_test, y_pred_gb), f1_score(y_test, y_pred_gb)]\n",
        "\n",
        "# Plot grouped bar chart\n",
        "x = np.arange(len(metrics))\n",
        "width = 0.2\n",
        "\n",
        "plt.figure(figsize=(10, 5))\n",
        "plt.bar(x - 1.5*width, log_scores, width, label='Logistic Regression', color='blue')\n",
        "plt.bar(x - 0.5*width, dt_scores, width, label='Decision Tree', color='green')\n",
        "plt.bar(x + 0.5*width, rf_scores, width, label='Random Forest', color='orange')\n",
        "plt.bar(x + 1.5*width, gb_scores, width, label='Gradient Boosting', color='red')\n",
        "\n",
        "plt.xlabel(\"Metrics\")\n",
        "plt.ylabel(\"Score\")\n",
        "plt.title(\"Model Performance Comparison\")\n",
        "plt.xticks(ticks=x, labels=metrics)\n",
        "plt.legend()\n",
        "plt.show()\n"
      ],
      "outputs": [
        {
          "output_type": "display_data",
          "data": {
            "text/plain": "<Figure size 1000x500 with 1 Axes>",
            "image/png": "[encoded data removed]"
          },
          "metadata": {}
        }
      ],
      "execution_count": 21,
      "metadata": {
        "gather": {
          "logged": 1741270672593
        }
      }
    },
    {
      "cell_type": "code",
      "source": [
        "from sklearn.metrics import confusion_matrix\n",
        "import matplotlib.pyplot as plt\n",
        "\n",
        "# Function to plot confusion matrices using Matplotlib only\n",
        "def plot_conf_matrix(y_test, y_pred, model_name):\n",
        "    cm = confusion_matrix(y_test, y_pred)\n",
        "    \n",
        "    plt.figure(figsize=(4, 4))\n",
        "    plt.imshow(cm, interpolation='nearest', cmap=plt.cm.Blues)\n",
        "    plt.title(f\"Confusion Matrix - {model_name}\")\n",
        "    plt.colorbar()\n",
        "\n",
        "    classes = [\"Not Churn\", \"Churn\"]\n",
        "    tick_marks = [0, 1]\n",
        "    \n",
        "    plt.xticks(tick_marks, classes)\n",
        "    plt.yticks(tick_marks, classes)\n",
        "\n",
        "    for i in range(len(cm)):\n",
        "        for j in range(len(cm[i])):\n",
        "            plt.text(j, i, str(cm[i][j]), horizontalalignment=\"center\", color=\"white\" if cm[i][j] > cm.max()/2 else \"black\")\n",
        "\n",
        "    plt.xlabel(\"Predicted Label\")\n",
        "    plt.ylabel(\"True Label\")\n",
        "    plt.show()\n",
        "\n",
        "# Plot for each model\n",
        "plot_conf_matrix(y_test, y_pred_log, \"Logistic Regression\")\n",
        "plot_conf_matrix(y_test, y_pred_dt, \"Decision Tree\")\n",
        "plot_conf_matrix(y_test, y_pred_rf, \"Random Forest\")\n",
        "plot_conf_matrix(y_test, y_pred_gb, \"Gradient Boosting\")\n"
      ],
      "outputs": [
        {
          "output_type": "display_data",
          "data": {
            "text/plain": "<Figure size 400x400 with 2 Axes>",
            "image/png": "[encoded data removed]"
          },
          "metadata": {}
        },
        {
          "output_type": "display_data",
          "data": {
            "text/plain": "<Figure size 400x400 with 2 Axes>",
            "image/png": "[encoded data removed]"
          },
          "metadata": {}
        },
        {
          "output_type": "display_data",
          "data": {
            "text/plain": "<Figure size 400x400 with 2 Axes>",
            "image/png": "[encoded data removed]"
          },
          "metadata": {}
        },
        {
          "output_type": "display_data",
          "data": {
            "text/plain": "<Figure size 400x400 with 2 Axes>",
            "image/png": "[encoded data removed]"
          },
          "metadata": {}
        }
      ],
      "execution_count": 23,
      "metadata": {
        "gather": {
          "logged": 1741270795330
        }
      }
    },
    {
      "cell_type": "markdown",
      "source": [],
      "metadata": {
        "nteract": {
          "transient": {
            "deleting": false
          }
        }
      }
    },
    {
      "cell_type": "markdown",
      "source": [],
      "metadata": {
        "nteract": {
          "transient": {
            "deleting": false
          }
        }
      }
    },
    {
      "cell_type": "markdown",
      "source": [],
      "metadata": {
        "nteract": {
          "transient": {
            "deleting": false
          }
        }
      }
    },
    {
      "cell_type": "markdown",
      "source": [],
      "metadata": {
        "nteract": {
          "transient": {
            "deleting": false
          }
        }
      }
    },
    {
      "cell_type": "code",
      "source": [],
      "outputs": [],
      "execution_count": null,
      "metadata": {}
    },
    {
      "cell_type": "code",
      "source": [],
      "outputs": [],
      "execution_count": null,
      "metadata": {}
    },
    {
      "cell_type": "markdown",
      "source": [],
      "metadata": {
        "nteract": {
          "transient": {
            "deleting": false
          }
        }
      }
    },
    {
      "cell_type": "markdown",
      "source": [],
      "metadata": {
        "nteract": {
          "transient": {
            "deleting": false
          }
        }
      }
    },
    {
      "cell_type": "markdown",
      "source": [],
      "metadata": {
        "nteract": {
          "transient": {
            "deleting": false
          }
        }
      }
    },
    {
      "cell_type": "markdown",
      "source": [],
      "metadata": {
        "nteract": {
          "transient": {
            "deleting": false
          }
        }
      }
    },
    {
      "cell_type": "markdown",
      "source": [],
      "metadata": {
        "nteract": {
          "transient": {
            "deleting": false
          }
        }
      }
    },
    {
      "cell_type": "code",
      "source": [],
      "outputs": [],
      "execution_count": null,
      "metadata": {}
    },
    {
      "cell_type": "markdown",
      "source": [],
      "metadata": {
        "nteract": {
          "transient": {
            "deleting": false
          }
        }
      }
    },
    {
      "cell_type": "code",
      "source": [],
      "outputs": [],
      "execution_count": null,
      "metadata": {}
    },
    {
      "cell_type": "markdown",
      "source": [],
      "metadata": {
        "nteract": {
          "transient": {
            "deleting": false
          }
        }
      }
    },
    {
      "cell_type": "markdown",
      "source": [],
      "metadata": {
        "nteract": {
          "transient": {
            "deleting": false
          }
        }
      }
    },
    {
      "cell_type": "markdown",
      "source": [],
      "metadata": {
        "nteract": {
          "transient": {
            "deleting": false
          }
        }
      }
    },
    {
      "cell_type": "markdown",
      "source": [],
      "metadata": {
        "nteract": {
          "transient": {
            "deleting": false
          }
        }
      }
    }
  ],
  "metadata": {
    "kernelspec": {
      "name": "python310-sdkv2",
      "language": "python",
      "display_name": "Python 3.10 - SDK v2"
    },
    "language_info": {
      "name": "python",
      "version": "3.10.14",
      "mimetype": "text/x-python",
      "codemirror_mode": {
        "name": "ipython",
        "version": 3
      },
      "pygments_lexer": "ipython3",
      "nbconvert_exporter": "python",
      "file_extension": ".py"
    },
    "microsoft": {
      "ms_spell_check": {
        "ms_spell_check_language": "en"
      },
      "host": {
        "AzureML": {
          "notebookHasBeenCompleted": true
        }
      }
    },
    "nteract": {
      "version": "nteract-front-end@1.0.0"
    },
    "kernel_info": {
      "name": "python310-sdkv2"
    }
  },
  "nbformat": 4,
  "nbformat_minor": 2
}